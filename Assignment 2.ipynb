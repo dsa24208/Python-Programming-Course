{
 "cells": [
  {
   "cell_type": "code",
   "execution_count": 1,
   "metadata": {
    "pycharm": {
     "name": "#%%\n"
    }
   },
   "outputs": [],
   "source": [
    "import pandas as pd"
   ]
  },
  {
   "cell_type": "markdown",
   "metadata": {
    "pycharm": {
     "name": "#%% md\n"
    }
   },
   "source": [
    "# Question 1"
   ]
  },
  {
   "cell_type": "markdown",
   "metadata": {
    "pycharm": {
     "name": "#%% md\n"
    }
   },
   "source": [
    "##### a)  Imputation Using (Most Frequent) or (Zero/Constant) Values or Imputation Using Deep Learning (Datawig)"
   ]
  },
  {
   "cell_type": "markdown",
   "metadata": {
    "pycharm": {
     "name": "#%% md\n"
    }
   },
   "source": [
    "##### b) sensitive to outliers = Imputation Using k-NN\n",
    "#####     considers all columns values = Imputation Using k-NN"
   ]
  },
  {
   "cell_type": "markdown",
   "metadata": {
    "pycharm": {
     "name": "#%% md\n"
    }
   },
   "source": [
    "##### c) Pros: Works well with categorical features.\n",
    "#####     Cons: It also doesn’t factor the correlations between features. It can introduce bias in the data."
   ]
  },
  {
   "cell_type": "markdown",
   "metadata": {
    "pycharm": {
     "name": "#%% md\n"
    }
   },
   "source": [
    "# Question 2"
   ]
  },
  {
   "cell_type": "code",
   "execution_count": 2,
   "metadata": {
    "pycharm": {
     "name": "#%%\n"
    }
   },
   "outputs": [],
   "source": [
    "nba = pd.read_csv(\"nba.csv\")"
   ]
  },
  {
   "cell_type": "markdown",
   "metadata": {
    "pycharm": {
     "name": "#%% md\n"
    }
   },
   "source": [
    "##### a)"
   ]
  },
  {
   "cell_type": "code",
   "execution_count": 3,
   "metadata": {
    "pycharm": {
     "name": "#%%\n"
    }
   },
   "outputs": [],
   "source": [
    "#creates sample for use in following questions, includes 80% of nba data, random state included for stability\n",
    "nbasample = nba.sample(frac = .8, random_state = 2)"
   ]
  },
  {
   "cell_type": "code",
   "execution_count": 4,
   "metadata": {
    "scrolled": true,
    "pycharm": {
     "name": "#%%\n"
    }
   },
   "outputs": [
    {
     "name": "stdout",
     "output_type": "stream",
     "text": [
      "<class 'pandas.core.frame.DataFrame'>\n",
      "Int64Index: 366 entries, 117 to 409\n",
      "Data columns (total 9 columns):\n",
      " #   Column    Non-Null Count  Dtype  \n",
      "---  ------    --------------  -----  \n",
      " 0   Name      366 non-null    object \n",
      " 1   Team      366 non-null    object \n",
      " 2   Number    366 non-null    float64\n",
      " 3   Position  366 non-null    object \n",
      " 4   Age       366 non-null    float64\n",
      " 5   Height    366 non-null    object \n",
      " 6   Weight    366 non-null    float64\n",
      " 7   College   301 non-null    object \n",
      " 8   Salary    355 non-null    float64\n",
      "dtypes: float64(4), object(5)\n",
      "memory usage: 28.6+ KB\n"
     ]
    }
   ],
   "source": [
    "#gets original info for memory usage in question h\n",
    "nbasample.info()"
   ]
  },
  {
   "cell_type": "markdown",
   "metadata": {
    "pycharm": {
     "name": "#%% md\n"
    }
   },
   "source": [
    "##### b)"
   ]
  },
  {
   "cell_type": "code",
   "execution_count": 5,
   "metadata": {
    "scrolled": true,
    "pycharm": {
     "name": "#%%\n"
    }
   },
   "outputs": [
    {
     "data": {
      "text/plain": [
       "Name         0\n",
       "Team         0\n",
       "Number       0\n",
       "Position     0\n",
       "Age          0\n",
       "Height       0\n",
       "Weight       0\n",
       "College     65\n",
       "Salary      11\n",
       "dtype: int64"
      ]
     },
     "execution_count": 5,
     "metadata": {},
     "output_type": "execute_result"
    }
   ],
   "source": [
    "#number of missing values in each column - only 65 in college and 11 in salary\n",
    "nbasample.isnull().sum()"
   ]
  },
  {
   "cell_type": "markdown",
   "metadata": {
    "pycharm": {
     "name": "#%% md\n"
    }
   },
   "source": [
    "##### c)"
   ]
  },
  {
   "cell_type": "code",
   "execution_count": 6,
   "metadata": {
    "pycharm": {
     "name": "#%%\n"
    }
   },
   "outputs": [],
   "source": [
    "#keeps only columns that have any value not equal to zero \n",
    "#(equiv of deleting all columns that only have zeroes) - doesn't do anything in this case\n",
    "nbasample = nbasample.loc[(nbasample!=0).any(axis=1)]"
   ]
  },
  {
   "cell_type": "markdown",
   "metadata": {
    "pycharm": {
     "name": "#%% md\n"
    }
   },
   "source": [
    "##### d)"
   ]
  },
  {
   "cell_type": "code",
   "execution_count": 7,
   "metadata": {
    "pycharm": {
     "name": "#%%\n"
    }
   },
   "outputs": [],
   "source": [
    "#fills college column with mode value\n",
    "modecollege = nbasample.College.mode()\n",
    "nbasample.College.fillna(modecollege[0], inplace = True)"
   ]
  },
  {
   "cell_type": "code",
   "execution_count": 8,
   "metadata": {
    "pycharm": {
     "name": "#%%\n"
    }
   },
   "outputs": [],
   "source": [
    "#fills salary column with mean value\n",
    "nbasample.Salary.fillna(nbasample.Salary.mean(), inplace = True)"
   ]
  },
  {
   "cell_type": "markdown",
   "metadata": {
    "pycharm": {
     "name": "#%% md\n"
    }
   },
   "source": [
    "##### e)"
   ]
  },
  {
   "cell_type": "code",
   "execution_count": 9,
   "metadata": {
    "pycharm": {
     "name": "#%%\n"
    }
   },
   "outputs": [],
   "source": [
    "#set number and salary columns to int\n",
    "nbasample.Number = nbasample.Number.astype('int')\n",
    "nbasample.Salary = nbasample.Salary.astype('int')"
   ]
  },
  {
   "cell_type": "markdown",
   "metadata": {
    "pycharm": {
     "name": "#%% md\n"
    }
   },
   "source": [
    "##### f)"
   ]
  },
  {
   "cell_type": "code",
   "execution_count": 10,
   "metadata": {
    "pycharm": {
     "name": "#%%\n"
    }
   },
   "outputs": [
    {
     "data": {
      "text/plain": [
       "array(['C', 'PF', 'SG', 'SF', 'PG'], dtype=object)"
      ]
     },
     "execution_count": 10,
     "metadata": {},
     "output_type": "execute_result"
    }
   ],
   "source": [
    "#display unique positions in Position column - C, PF, SG, SF, PG\n",
    "nbasample.Position.unique()"
   ]
  },
  {
   "cell_type": "code",
   "execution_count": 11,
   "metadata": {
    "scrolled": true,
    "pycharm": {
     "name": "#%%\n"
    }
   },
   "outputs": [
    {
     "data": {
      "text/plain": [
       "117     C\n",
       "281    PF\n",
       "372    PF\n",
       "20     SG\n",
       "221    SF\n",
       "       ..\n",
       "123    SF\n",
       "311    SG\n",
       "16     SG\n",
       "224     C\n",
       "409    PF\n",
       "Name: Position, Length: 366, dtype: category\n",
       "Categories (5, object): [C, PF, PG, SF, SG]"
      ]
     },
     "execution_count": 11,
     "metadata": {},
     "output_type": "execute_result"
    }
   ],
   "source": [
    "#convert position column to category - only 5 values out of 366 data points\n",
    "nbasample.Position.astype('category')"
   ]
  },
  {
   "cell_type": "markdown",
   "metadata": {
    "pycharm": {
     "name": "#%% md\n"
    }
   },
   "source": [
    "##### g)"
   ]
  },
  {
   "cell_type": "code",
   "execution_count": 12,
   "metadata": {
    "pycharm": {
     "name": "#%%\n"
    }
   },
   "outputs": [
    {
     "data": {
      "text/plain": [
       "30"
      ]
     },
     "execution_count": 12,
     "metadata": {},
     "output_type": "execute_result"
    }
   ],
   "source": [
    "#30 unique teams in nbasample - 366 data points\n",
    "nbasample.Team.nunique()"
   ]
  },
  {
   "cell_type": "code",
   "execution_count": 13,
   "metadata": {
    "scrolled": true,
    "pycharm": {
     "name": "#%%\n"
    }
   },
   "outputs": [
    {
     "name": "stdout",
     "output_type": "stream",
     "text": [
      "less than 10x\n"
     ]
    }
   ],
   "source": [
    "#unique values less than 10 times the total number of data points in Team columns - data type to be changes\n",
    "if nbasample.Team.nunique() * 10 < nbasample.Team.count():\n",
    "    print('less than 10x')\n",
    "else:\n",
    "    print('more than 10x')"
   ]
  },
  {
   "cell_type": "code",
   "execution_count": 36,
   "metadata": {
    "pycharm": {
     "name": "#%%\n"
    }
   },
   "outputs": [],
   "source": [
    "#changes dtype to category since nunique is less than 10x the number of data points\n",
    "nbasample.Team = nbasample.Team.astype(\"category\")"
   ]
  },
  {
   "cell_type": "markdown",
   "metadata": {
    "pycharm": {
     "name": "#%% md\n"
    }
   },
   "source": [
    "##### h)"
   ]
  },
  {
   "cell_type": "code",
   "execution_count": 37,
   "metadata": {
    "scrolled": true,
    "pycharm": {
     "name": "#%%\n"
    }
   },
   "outputs": [
    {
     "name": "stdout",
     "output_type": "stream",
     "text": [
      "<class 'pandas.core.frame.DataFrame'>\n",
      "Int64Index: 366 entries, 117 to 409\n",
      "Data columns (total 10 columns):\n",
      " #   Column    Non-Null Count  Dtype   \n",
      "---  ------    --------------  -----   \n",
      " 0   Name      366 non-null    object  \n",
      " 1   Team      366 non-null    category\n",
      " 2   Number    366 non-null    int32   \n",
      " 3   Position  366 non-null    object  \n",
      " 4   Age       366 non-null    float64 \n",
      " 5   Height    366 non-null    object  \n",
      " 6   Weight    366 non-null    float64 \n",
      " 7   College   366 non-null    object  \n",
      " 8   Salary    366 non-null    int32   \n",
      " 9   agegroup  366 non-null    object  \n",
      "dtypes: category(1), float64(2), int32(2), object(5)\n",
      "memory usage: 27.6+ KB\n"
     ]
    }
   ],
   "source": [
    "#memory usage goes from 28.6+ to 27.6+, and has decreased.\n",
    "nbasample.info()"
   ]
  },
  {
   "cell_type": "markdown",
   "metadata": {
    "pycharm": {
     "name": "#%% md\n"
    }
   },
   "source": [
    "##### i)"
   ]
  },
  {
   "cell_type": "code",
   "execution_count": 39,
   "metadata": {
    "pycharm": {
     "name": "#%%\n"
    }
   },
   "outputs": [
    {
     "data": {
      "text/html": [
       "<div>\n",
       "<style scoped>\n",
       "    .dataframe tbody tr th:only-of-type {\n",
       "        vertical-align: middle;\n",
       "    }\n",
       "\n",
       "    .dataframe tbody tr th {\n",
       "        vertical-align: top;\n",
       "    }\n",
       "\n",
       "    .dataframe thead th {\n",
       "        text-align: right;\n",
       "    }\n",
       "</style>\n",
       "<table border=\"1\" class=\"dataframe\">\n",
       "  <thead>\n",
       "    <tr style=\"text-align: right;\">\n",
       "      <th></th>\n",
       "      <th>index</th>\n",
       "      <th>Name</th>\n",
       "      <th>Team</th>\n",
       "      <th>Number</th>\n",
       "      <th>Position</th>\n",
       "      <th>Age</th>\n",
       "      <th>Height</th>\n",
       "      <th>Weight</th>\n",
       "      <th>College</th>\n",
       "      <th>Salary</th>\n",
       "      <th>agegroup</th>\n",
       "    </tr>\n",
       "  </thead>\n",
       "  <tbody>\n",
       "    <tr>\n",
       "      <th>0</th>\n",
       "      <td>315</td>\n",
       "      <td>Paul Millsap</td>\n",
       "      <td>Atlanta Hawks</td>\n",
       "      <td>4</td>\n",
       "      <td>PF</td>\n",
       "      <td>31.0</td>\n",
       "      <td>6-8</td>\n",
       "      <td>246.0</td>\n",
       "      <td>Louisiana Tech</td>\n",
       "      <td>18671659</td>\n",
       "      <td>middle</td>\n",
       "    </tr>\n",
       "    <tr>\n",
       "      <th>1</th>\n",
       "      <td>312</td>\n",
       "      <td>Al Horford</td>\n",
       "      <td>Atlanta Hawks</td>\n",
       "      <td>15</td>\n",
       "      <td>C</td>\n",
       "      <td>30.0</td>\n",
       "      <td>6-10</td>\n",
       "      <td>245.0</td>\n",
       "      <td>Florida</td>\n",
       "      <td>12000000</td>\n",
       "      <td>middle</td>\n",
       "    </tr>\n",
       "    <tr>\n",
       "      <th>2</th>\n",
       "      <td>321</td>\n",
       "      <td>Tiago Splitter</td>\n",
       "      <td>Atlanta Hawks</td>\n",
       "      <td>11</td>\n",
       "      <td>C</td>\n",
       "      <td>31.0</td>\n",
       "      <td>6-11</td>\n",
       "      <td>245.0</td>\n",
       "      <td>Kentucky</td>\n",
       "      <td>9756250</td>\n",
       "      <td>middle</td>\n",
       "    </tr>\n",
       "    <tr>\n",
       "      <th>3</th>\n",
       "      <td>314</td>\n",
       "      <td>Kyle Korver</td>\n",
       "      <td>Atlanta Hawks</td>\n",
       "      <td>26</td>\n",
       "      <td>SG</td>\n",
       "      <td>35.0</td>\n",
       "      <td>6-7</td>\n",
       "      <td>212.0</td>\n",
       "      <td>Creighton</td>\n",
       "      <td>5746479</td>\n",
       "      <td>middle</td>\n",
       "    </tr>\n",
       "    <tr>\n",
       "      <th>4</th>\n",
       "      <td>320</td>\n",
       "      <td>Thabo Sefolosha</td>\n",
       "      <td>Atlanta Hawks</td>\n",
       "      <td>25</td>\n",
       "      <td>SF</td>\n",
       "      <td>32.0</td>\n",
       "      <td>6-7</td>\n",
       "      <td>220.0</td>\n",
       "      <td>Kentucky</td>\n",
       "      <td>4000000</td>\n",
       "      <td>middle</td>\n",
       "    </tr>\n",
       "    <tr>\n",
       "      <th>...</th>\n",
       "      <td>...</td>\n",
       "      <td>...</td>\n",
       "      <td>...</td>\n",
       "      <td>...</td>\n",
       "      <td>...</td>\n",
       "      <td>...</td>\n",
       "      <td>...</td>\n",
       "      <td>...</td>\n",
       "      <td>...</td>\n",
       "      <td>...</td>\n",
       "      <td>...</td>\n",
       "    </tr>\n",
       "    <tr>\n",
       "      <th>361</th>\n",
       "      <td>379</td>\n",
       "      <td>Ramon Sessions</td>\n",
       "      <td>Washington Wizards</td>\n",
       "      <td>7</td>\n",
       "      <td>PG</td>\n",
       "      <td>30.0</td>\n",
       "      <td>6-3</td>\n",
       "      <td>190.0</td>\n",
       "      <td>Nevada</td>\n",
       "      <td>2170465</td>\n",
       "      <td>middle</td>\n",
       "    </tr>\n",
       "    <tr>\n",
       "      <th>362</th>\n",
       "      <td>377</td>\n",
       "      <td>Kelly Oubre Jr.</td>\n",
       "      <td>Washington Wizards</td>\n",
       "      <td>12</td>\n",
       "      <td>SF</td>\n",
       "      <td>20.0</td>\n",
       "      <td>6-7</td>\n",
       "      <td>205.0</td>\n",
       "      <td>Kansas</td>\n",
       "      <td>1920240</td>\n",
       "      <td>young</td>\n",
       "    </tr>\n",
       "    <tr>\n",
       "      <th>363</th>\n",
       "      <td>371</td>\n",
       "      <td>Jarell Eddie</td>\n",
       "      <td>Washington Wizards</td>\n",
       "      <td>8</td>\n",
       "      <td>SG</td>\n",
       "      <td>24.0</td>\n",
       "      <td>6-7</td>\n",
       "      <td>218.0</td>\n",
       "      <td>Virginia Tech</td>\n",
       "      <td>561716</td>\n",
       "      <td>young</td>\n",
       "    </tr>\n",
       "    <tr>\n",
       "      <th>364</th>\n",
       "      <td>374</td>\n",
       "      <td>JJ Hickson</td>\n",
       "      <td>Washington Wizards</td>\n",
       "      <td>21</td>\n",
       "      <td>C</td>\n",
       "      <td>27.0</td>\n",
       "      <td>6-9</td>\n",
       "      <td>242.0</td>\n",
       "      <td>North Carolina State</td>\n",
       "      <td>273038</td>\n",
       "      <td>middle</td>\n",
       "    </tr>\n",
       "    <tr>\n",
       "      <th>365</th>\n",
       "      <td>381</td>\n",
       "      <td>Marcus Thornton</td>\n",
       "      <td>Washington Wizards</td>\n",
       "      <td>15</td>\n",
       "      <td>SF</td>\n",
       "      <td>29.0</td>\n",
       "      <td>6-4</td>\n",
       "      <td>205.0</td>\n",
       "      <td>LSU</td>\n",
       "      <td>200600</td>\n",
       "      <td>middle</td>\n",
       "    </tr>\n",
       "  </tbody>\n",
       "</table>\n",
       "<p>366 rows × 11 columns</p>\n",
       "</div>"
      ],
      "text/plain": [
       "     index             Name                Team  Number Position   Age Height  \\\n",
       "0      315     Paul Millsap       Atlanta Hawks       4       PF  31.0    6-8   \n",
       "1      312       Al Horford       Atlanta Hawks      15        C  30.0   6-10   \n",
       "2      321   Tiago Splitter       Atlanta Hawks      11        C  31.0   6-11   \n",
       "3      314      Kyle Korver       Atlanta Hawks      26       SG  35.0    6-7   \n",
       "4      320  Thabo Sefolosha       Atlanta Hawks      25       SF  32.0    6-7   \n",
       "..     ...              ...                 ...     ...      ...   ...    ...   \n",
       "361    379   Ramon Sessions  Washington Wizards       7       PG  30.0    6-3   \n",
       "362    377  Kelly Oubre Jr.  Washington Wizards      12       SF  20.0    6-7   \n",
       "363    371     Jarell Eddie  Washington Wizards       8       SG  24.0    6-7   \n",
       "364    374       JJ Hickson  Washington Wizards      21        C  27.0    6-9   \n",
       "365    381  Marcus Thornton  Washington Wizards      15       SF  29.0    6-4   \n",
       "\n",
       "     Weight               College    Salary agegroup  \n",
       "0     246.0        Louisiana Tech  18671659   middle  \n",
       "1     245.0               Florida  12000000   middle  \n",
       "2     245.0              Kentucky   9756250   middle  \n",
       "3     212.0             Creighton   5746479   middle  \n",
       "4     220.0              Kentucky   4000000   middle  \n",
       "..      ...                   ...       ...      ...  \n",
       "361   190.0                Nevada   2170465   middle  \n",
       "362   205.0                Kansas   1920240    young  \n",
       "363   218.0         Virginia Tech    561716    young  \n",
       "364   242.0  North Carolina State    273038   middle  \n",
       "365   205.0                   LSU    200600   middle  \n",
       "\n",
       "[366 rows x 11 columns]"
      ]
     },
     "execution_count": 39,
     "metadata": {},
     "output_type": "execute_result"
    }
   ],
   "source": [
    "#creates new sorted data set with Team sorted by asccending, salary by descending, and resets index\n",
    "nbasamplesorted = nbasample.sort_values([\"Team\", \"Salary\"], ascending = (True, False)).reset_index()\n",
    "nbasamplesorted"
   ]
  },
  {
   "cell_type": "markdown",
   "metadata": {
    "pycharm": {
     "name": "#%% md\n"
    }
   },
   "source": [
    "##### j)"
   ]
  },
  {
   "cell_type": "code",
   "execution_count": 16,
   "metadata": {
    "pycharm": {
     "name": "#%%\n"
    }
   },
   "outputs": [],
   "source": [
    "#creates a column to group for different age groups\n",
    "nbasample[\"agegroup\"] = nbasample.Age.apply(lambda x : \n",
    "                 \"old\" if x >35 else \n",
    "                 \"young\" if x < 25 else \n",
    "                 \"middle\")"
   ]
  },
  {
   "cell_type": "code",
   "execution_count": 17,
   "metadata": {
    "pycharm": {
     "name": "#%%\n"
    }
   },
   "outputs": [
    {
     "data": {
      "text/html": [
       "<div>\n",
       "<style scoped>\n",
       "    .dataframe tbody tr th:only-of-type {\n",
       "        vertical-align: middle;\n",
       "    }\n",
       "\n",
       "    .dataframe tbody tr th {\n",
       "        vertical-align: top;\n",
       "    }\n",
       "\n",
       "    .dataframe thead th {\n",
       "        text-align: right;\n",
       "    }\n",
       "</style>\n",
       "<table border=\"1\" class=\"dataframe\">\n",
       "  <thead>\n",
       "    <tr style=\"text-align: right;\">\n",
       "      <th></th>\n",
       "      <th>Number</th>\n",
       "      <th>Age</th>\n",
       "      <th>Weight</th>\n",
       "      <th>Salary</th>\n",
       "    </tr>\n",
       "    <tr>\n",
       "      <th>agegroup</th>\n",
       "      <th></th>\n",
       "      <th></th>\n",
       "      <th></th>\n",
       "      <th></th>\n",
       "    </tr>\n",
       "  </thead>\n",
       "  <tbody>\n",
       "    <tr>\n",
       "      <th>middle</th>\n",
       "      <td>17.838565</td>\n",
       "      <td>28.511211</td>\n",
       "      <td>222.726457</td>\n",
       "      <td>5.974205e+06</td>\n",
       "    </tr>\n",
       "    <tr>\n",
       "      <th>old</th>\n",
       "      <td>24.125000</td>\n",
       "      <td>37.562500</td>\n",
       "      <td>225.187500</td>\n",
       "      <td>4.810857e+06</td>\n",
       "    </tr>\n",
       "    <tr>\n",
       "      <th>young</th>\n",
       "      <td>17.433071</td>\n",
       "      <td>22.472441</td>\n",
       "      <td>218.913386</td>\n",
       "      <td>2.783634e+06</td>\n",
       "    </tr>\n",
       "  </tbody>\n",
       "</table>\n",
       "</div>"
      ],
      "text/plain": [
       "             Number        Age      Weight        Salary\n",
       "agegroup                                                \n",
       "middle    17.838565  28.511211  222.726457  5.974205e+06\n",
       "old       24.125000  37.562500  225.187500  4.810857e+06\n",
       "young     17.433071  22.472441  218.913386  2.783634e+06"
      ]
     },
     "execution_count": 17,
     "metadata": {},
     "output_type": "execute_result"
    }
   ],
   "source": [
    "#middle age between 25 and 35 receives the highest average salary\n",
    "nbasample.groupby(by = \"agegroup\").mean()"
   ]
  },
  {
   "cell_type": "markdown",
   "metadata": {
    "pycharm": {
     "name": "#%% md\n"
    }
   },
   "source": [
    "# Question 3"
   ]
  },
  {
   "cell_type": "code",
   "execution_count": 18,
   "metadata": {
    "pycharm": {
     "name": "#%%\n"
    }
   },
   "outputs": [],
   "source": [
    "foods = pd.read_csv(\"foods.csv\")"
   ]
  },
  {
   "cell_type": "code",
   "execution_count": 19,
   "metadata": {
    "pycharm": {
     "name": "#%%\n"
    }
   },
   "outputs": [
    {
     "name": "stdout",
     "output_type": "stream",
     "text": [
      "<class 'pandas.core.frame.DataFrame'>\n",
      "RangeIndex: 1000 entries, 0 to 999\n",
      "Data columns (total 6 columns):\n",
      " #   Column      Non-Null Count  Dtype  \n",
      "---  ------      --------------  -----  \n",
      " 0   First Name  1000 non-null   object \n",
      " 1   Gender      1000 non-null   object \n",
      " 2   City        1000 non-null   object \n",
      " 3   Frequency   1000 non-null   object \n",
      " 4   Item        1000 non-null   object \n",
      " 5   Spend       1000 non-null   float64\n",
      "dtypes: float64(1), object(5)\n",
      "memory usage: 47.0+ KB\n"
     ]
    }
   ],
   "source": [
    "foods.info()"
   ]
  },
  {
   "cell_type": "code",
   "execution_count": 20,
   "metadata": {
    "scrolled": false,
    "pycharm": {
     "name": "#%%\n"
    }
   },
   "outputs": [
    {
     "data": {
      "text/html": [
       "<div>\n",
       "<style scoped>\n",
       "    .dataframe tbody tr th:only-of-type {\n",
       "        vertical-align: middle;\n",
       "    }\n",
       "\n",
       "    .dataframe tbody tr th {\n",
       "        vertical-align: top;\n",
       "    }\n",
       "\n",
       "    .dataframe thead th {\n",
       "        text-align: right;\n",
       "    }\n",
       "</style>\n",
       "<table border=\"1\" class=\"dataframe\">\n",
       "  <thead>\n",
       "    <tr style=\"text-align: right;\">\n",
       "      <th></th>\n",
       "      <th>First Name</th>\n",
       "      <th>Gender</th>\n",
       "      <th>City</th>\n",
       "      <th>Frequency</th>\n",
       "      <th>Item</th>\n",
       "      <th>Spend</th>\n",
       "    </tr>\n",
       "  </thead>\n",
       "  <tbody>\n",
       "    <tr>\n",
       "      <th>0</th>\n",
       "      <td>Wanda</td>\n",
       "      <td>Female</td>\n",
       "      <td>Stamford</td>\n",
       "      <td>Weekly</td>\n",
       "      <td>Burger</td>\n",
       "      <td>15.66</td>\n",
       "    </tr>\n",
       "    <tr>\n",
       "      <th>1</th>\n",
       "      <td>Eric</td>\n",
       "      <td>Male</td>\n",
       "      <td>Stamford</td>\n",
       "      <td>Daily</td>\n",
       "      <td>Chalupa</td>\n",
       "      <td>10.56</td>\n",
       "    </tr>\n",
       "    <tr>\n",
       "      <th>2</th>\n",
       "      <td>Charles</td>\n",
       "      <td>Male</td>\n",
       "      <td>New York</td>\n",
       "      <td>Never</td>\n",
       "      <td>Sushi</td>\n",
       "      <td>42.14</td>\n",
       "    </tr>\n",
       "    <tr>\n",
       "      <th>3</th>\n",
       "      <td>Anna</td>\n",
       "      <td>Female</td>\n",
       "      <td>Philadelphia</td>\n",
       "      <td>Once</td>\n",
       "      <td>Ice Cream</td>\n",
       "      <td>11.01</td>\n",
       "    </tr>\n",
       "    <tr>\n",
       "      <th>4</th>\n",
       "      <td>Deborah</td>\n",
       "      <td>Female</td>\n",
       "      <td>Philadelphia</td>\n",
       "      <td>Daily</td>\n",
       "      <td>Chalupa</td>\n",
       "      <td>23.49</td>\n",
       "    </tr>\n",
       "  </tbody>\n",
       "</table>\n",
       "</div>"
      ],
      "text/plain": [
       "  First Name  Gender          City Frequency       Item  Spend\n",
       "0      Wanda  Female      Stamford    Weekly     Burger  15.66\n",
       "1       Eric    Male      Stamford     Daily    Chalupa  10.56\n",
       "2    Charles    Male      New York     Never      Sushi  42.14\n",
       "3       Anna  Female  Philadelphia      Once  Ice Cream  11.01\n",
       "4    Deborah  Female  Philadelphia     Daily    Chalupa  23.49"
      ]
     },
     "execution_count": 20,
     "metadata": {},
     "output_type": "execute_result"
    }
   ],
   "source": [
    "foods.head()"
   ]
  },
  {
   "cell_type": "markdown",
   "metadata": {
    "pycharm": {
     "name": "#%% md\n"
    }
   },
   "source": [
    "##### a)"
   ]
  },
  {
   "cell_type": "code",
   "execution_count": 21,
   "metadata": {
    "pycharm": {
     "name": "#%%\n"
    }
   },
   "outputs": [],
   "source": [
    "#change all but first name to category - first name has a large number unique values\n",
    "foods = foods.astype({'Gender' : 'category','City' : 'category','Frequency' : 'category','Item' : 'category'})"
   ]
  },
  {
   "cell_type": "code",
   "execution_count": 22,
   "metadata": {
    "scrolled": true,
    "pycharm": {
     "name": "#%%\n"
    }
   },
   "outputs": [
    {
     "name": "stdout",
     "output_type": "stream",
     "text": [
      "<class 'pandas.core.frame.DataFrame'>\n",
      "RangeIndex: 1000 entries, 0 to 999\n",
      "Data columns (total 6 columns):\n",
      " #   Column      Non-Null Count  Dtype   \n",
      "---  ------      --------------  -----   \n",
      " 0   First Name  1000 non-null   object  \n",
      " 1   Gender      1000 non-null   category\n",
      " 2   City        1000 non-null   category\n",
      " 3   Frequency   1000 non-null   category\n",
      " 4   Item        1000 non-null   category\n",
      " 5   Spend       1000 non-null   float64 \n",
      "dtypes: category(4), float64(1), object(1)\n",
      "memory usage: 20.4+ KB\n"
     ]
    }
   ],
   "source": [
    "foods.info()"
   ]
  },
  {
   "cell_type": "markdown",
   "metadata": {
    "pycharm": {
     "name": "#%% md\n"
    }
   },
   "source": [
    "##### b)"
   ]
  },
  {
   "cell_type": "code",
   "execution_count": 23,
   "metadata": {
    "scrolled": true,
    "pycharm": {
     "name": "#%%\n"
    }
   },
   "outputs": [
    {
     "data": {
      "text/html": [
       "<div>\n",
       "<style scoped>\n",
       "    .dataframe tbody tr th:only-of-type {\n",
       "        vertical-align: middle;\n",
       "    }\n",
       "\n",
       "    .dataframe tbody tr th {\n",
       "        vertical-align: top;\n",
       "    }\n",
       "\n",
       "    .dataframe thead th {\n",
       "        text-align: right;\n",
       "    }\n",
       "</style>\n",
       "<table border=\"1\" class=\"dataframe\">\n",
       "  <thead>\n",
       "    <tr style=\"text-align: right;\">\n",
       "      <th></th>\n",
       "      <th>Spend</th>\n",
       "    </tr>\n",
       "    <tr>\n",
       "      <th>Gender</th>\n",
       "      <th></th>\n",
       "    </tr>\n",
       "  </thead>\n",
       "  <tbody>\n",
       "    <tr>\n",
       "      <th>Female</th>\n",
       "      <td>50.709629</td>\n",
       "    </tr>\n",
       "    <tr>\n",
       "      <th>Male</th>\n",
       "      <td>49.397623</td>\n",
       "    </tr>\n",
       "  </tbody>\n",
       "</table>\n",
       "</div>"
      ],
      "text/plain": [
       "            Spend\n",
       "Gender           \n",
       "Female  50.709629\n",
       "Male    49.397623"
      ]
     },
     "execution_count": 23,
     "metadata": {},
     "output_type": "execute_result"
    }
   ],
   "source": [
    "#spend average by gender using groupby\n",
    "foods.groupby(by = \"Gender\").mean()"
   ]
  },
  {
   "cell_type": "code",
   "execution_count": 24,
   "metadata": {
    "pycharm": {
     "name": "#%%\n"
    }
   },
   "outputs": [
    {
     "data": {
      "text/html": [
       "<div>\n",
       "<style scoped>\n",
       "    .dataframe tbody tr th:only-of-type {\n",
       "        vertical-align: middle;\n",
       "    }\n",
       "\n",
       "    .dataframe tbody tr th {\n",
       "        vertical-align: top;\n",
       "    }\n",
       "\n",
       "    .dataframe thead th {\n",
       "        text-align: right;\n",
       "    }\n",
       "</style>\n",
       "<table border=\"1\" class=\"dataframe\">\n",
       "  <thead>\n",
       "    <tr style=\"text-align: right;\">\n",
       "      <th></th>\n",
       "      <th>Spend</th>\n",
       "    </tr>\n",
       "    <tr>\n",
       "      <th>Gender</th>\n",
       "      <th></th>\n",
       "    </tr>\n",
       "  </thead>\n",
       "  <tbody>\n",
       "    <tr>\n",
       "      <th>Female</th>\n",
       "      <td>50.709629</td>\n",
       "    </tr>\n",
       "    <tr>\n",
       "      <th>Male</th>\n",
       "      <td>49.397623</td>\n",
       "    </tr>\n",
       "  </tbody>\n",
       "</table>\n",
       "</div>"
      ],
      "text/plain": [
       "            Spend\n",
       "Gender           \n",
       "Female  50.709629\n",
       "Male    49.397623"
      ]
     },
     "execution_count": 24,
     "metadata": {},
     "output_type": "execute_result"
    }
   ],
   "source": [
    "#spend average by gender using pivot_table\n",
    "foods.pivot_table(values = \"Spend\", index = \"Gender\", aggfunc = \"mean\")"
   ]
  },
  {
   "cell_type": "markdown",
   "metadata": {
    "pycharm": {
     "name": "#%% md\n"
    }
   },
   "source": [
    "##### c)"
   ]
  },
  {
   "cell_type": "code",
   "execution_count": 25,
   "metadata": {
    "scrolled": false,
    "pycharm": {
     "name": "#%%\n"
    }
   },
   "outputs": [
    {
     "data": {
      "text/html": [
       "<div>\n",
       "<style scoped>\n",
       "    .dataframe tbody tr th:only-of-type {\n",
       "        vertical-align: middle;\n",
       "    }\n",
       "\n",
       "    .dataframe tbody tr th {\n",
       "        vertical-align: top;\n",
       "    }\n",
       "\n",
       "    .dataframe thead th {\n",
       "        text-align: right;\n",
       "    }\n",
       "</style>\n",
       "<table border=\"1\" class=\"dataframe\">\n",
       "  <thead>\n",
       "    <tr style=\"text-align: right;\">\n",
       "      <th></th>\n",
       "      <th>Spend</th>\n",
       "    </tr>\n",
       "    <tr>\n",
       "      <th>Gender</th>\n",
       "      <th></th>\n",
       "    </tr>\n",
       "  </thead>\n",
       "  <tbody>\n",
       "    <tr>\n",
       "      <th>Female</th>\n",
       "      <td>25963.33</td>\n",
       "    </tr>\n",
       "    <tr>\n",
       "      <th>Male</th>\n",
       "      <td>24106.04</td>\n",
       "    </tr>\n",
       "  </tbody>\n",
       "</table>\n",
       "</div>"
      ],
      "text/plain": [
       "           Spend\n",
       "Gender          \n",
       "Female  25963.33\n",
       "Male    24106.04"
      ]
     },
     "execution_count": 25,
     "metadata": {},
     "output_type": "execute_result"
    }
   ],
   "source": [
    "#sum of money spent by each gender\n",
    "foods.groupby(by = \"Gender\").sum()"
   ]
  },
  {
   "cell_type": "markdown",
   "metadata": {
    "pycharm": {
     "name": "#%% md\n"
    }
   },
   "source": [
    "##### d)"
   ]
  },
  {
   "cell_type": "code",
   "execution_count": 26,
   "metadata": {
    "scrolled": true,
    "pycharm": {
     "name": "#%%\n"
    }
   },
   "outputs": [
    {
     "data": {
      "text/html": [
       "<div>\n",
       "<style scoped>\n",
       "    .dataframe tbody tr th:only-of-type {\n",
       "        vertical-align: middle;\n",
       "    }\n",
       "\n",
       "    .dataframe tbody tr th {\n",
       "        vertical-align: top;\n",
       "    }\n",
       "\n",
       "    .dataframe thead th {\n",
       "        text-align: right;\n",
       "    }\n",
       "</style>\n",
       "<table border=\"1\" class=\"dataframe\">\n",
       "  <thead>\n",
       "    <tr style=\"text-align: right;\">\n",
       "      <th></th>\n",
       "      <th></th>\n",
       "      <th></th>\n",
       "      <th>Spend</th>\n",
       "    </tr>\n",
       "    <tr>\n",
       "      <th>Gender</th>\n",
       "      <th>Item</th>\n",
       "      <th>City</th>\n",
       "      <th></th>\n",
       "    </tr>\n",
       "  </thead>\n",
       "  <tbody>\n",
       "    <tr>\n",
       "      <th rowspan=\"18\" valign=\"top\">Female</th>\n",
       "      <th rowspan=\"3\" valign=\"top\">Burger</th>\n",
       "      <th>New York</th>\n",
       "      <td>51.626667</td>\n",
       "    </tr>\n",
       "    <tr>\n",
       "      <th>Philadelphia</th>\n",
       "      <td>52.878710</td>\n",
       "    </tr>\n",
       "    <tr>\n",
       "      <th>Stamford</th>\n",
       "      <td>45.037778</td>\n",
       "    </tr>\n",
       "    <tr>\n",
       "      <th rowspan=\"3\" valign=\"top\">Burrito</th>\n",
       "      <th>New York</th>\n",
       "      <td>42.563043</td>\n",
       "    </tr>\n",
       "    <tr>\n",
       "      <th>Philadelphia</th>\n",
       "      <td>52.098571</td>\n",
       "    </tr>\n",
       "    <tr>\n",
       "      <th>Stamford</th>\n",
       "      <td>53.532647</td>\n",
       "    </tr>\n",
       "    <tr>\n",
       "      <th rowspan=\"3\" valign=\"top\">Chalupa</th>\n",
       "      <th>New York</th>\n",
       "      <td>46.135789</td>\n",
       "    </tr>\n",
       "    <tr>\n",
       "      <th>Philadelphia</th>\n",
       "      <td>52.291563</td>\n",
       "    </tr>\n",
       "    <tr>\n",
       "      <th>Stamford</th>\n",
       "      <td>64.094000</td>\n",
       "    </tr>\n",
       "    <tr>\n",
       "      <th rowspan=\"3\" valign=\"top\">Donut</th>\n",
       "      <th>New York</th>\n",
       "      <td>46.670323</td>\n",
       "    </tr>\n",
       "    <tr>\n",
       "      <th>Philadelphia</th>\n",
       "      <td>54.642000</td>\n",
       "    </tr>\n",
       "    <tr>\n",
       "      <th>Stamford</th>\n",
       "      <td>48.734118</td>\n",
       "    </tr>\n",
       "    <tr>\n",
       "      <th rowspan=\"3\" valign=\"top\">Ice Cream</th>\n",
       "      <th>New York</th>\n",
       "      <td>56.356296</td>\n",
       "    </tr>\n",
       "    <tr>\n",
       "      <th>Philadelphia</th>\n",
       "      <td>46.225625</td>\n",
       "    </tr>\n",
       "    <tr>\n",
       "      <th>Stamford</th>\n",
       "      <td>46.910455</td>\n",
       "    </tr>\n",
       "    <tr>\n",
       "      <th rowspan=\"3\" valign=\"top\">Sushi</th>\n",
       "      <th>New York</th>\n",
       "      <td>47.751290</td>\n",
       "    </tr>\n",
       "    <tr>\n",
       "      <th>Philadelphia</th>\n",
       "      <td>58.096000</td>\n",
       "    </tr>\n",
       "    <tr>\n",
       "      <th>Stamford</th>\n",
       "      <td>45.622187</td>\n",
       "    </tr>\n",
       "    <tr>\n",
       "      <th rowspan=\"18\" valign=\"top\">Male</th>\n",
       "      <th rowspan=\"3\" valign=\"top\">Burger</th>\n",
       "      <th>New York</th>\n",
       "      <td>58.822273</td>\n",
       "    </tr>\n",
       "    <tr>\n",
       "      <th>Philadelphia</th>\n",
       "      <td>44.675238</td>\n",
       "    </tr>\n",
       "    <tr>\n",
       "      <th>Stamford</th>\n",
       "      <td>46.424516</td>\n",
       "    </tr>\n",
       "    <tr>\n",
       "      <th rowspan=\"3\" valign=\"top\">Burrito</th>\n",
       "      <th>New York</th>\n",
       "      <td>55.976000</td>\n",
       "    </tr>\n",
       "    <tr>\n",
       "      <th>Philadelphia</th>\n",
       "      <td>43.764333</td>\n",
       "    </tr>\n",
       "    <tr>\n",
       "      <th>Stamford</th>\n",
       "      <td>46.438929</td>\n",
       "    </tr>\n",
       "    <tr>\n",
       "      <th rowspan=\"3\" valign=\"top\">Chalupa</th>\n",
       "      <th>New York</th>\n",
       "      <td>49.110800</td>\n",
       "    </tr>\n",
       "    <tr>\n",
       "      <th>Philadelphia</th>\n",
       "      <td>48.444783</td>\n",
       "    </tr>\n",
       "    <tr>\n",
       "      <th>Stamford</th>\n",
       "      <td>50.011304</td>\n",
       "    </tr>\n",
       "    <tr>\n",
       "      <th rowspan=\"3\" valign=\"top\">Donut</th>\n",
       "      <th>New York</th>\n",
       "      <td>44.842333</td>\n",
       "    </tr>\n",
       "    <tr>\n",
       "      <th>Philadelphia</th>\n",
       "      <td>37.859394</td>\n",
       "    </tr>\n",
       "    <tr>\n",
       "      <th>Stamford</th>\n",
       "      <td>49.004483</td>\n",
       "    </tr>\n",
       "    <tr>\n",
       "      <th rowspan=\"3\" valign=\"top\">Ice Cream</th>\n",
       "      <th>New York</th>\n",
       "      <td>55.297586</td>\n",
       "    </tr>\n",
       "    <tr>\n",
       "      <th>Philadelphia</th>\n",
       "      <td>53.445610</td>\n",
       "    </tr>\n",
       "    <tr>\n",
       "      <th>Stamford</th>\n",
       "      <td>42.368800</td>\n",
       "    </tr>\n",
       "    <tr>\n",
       "      <th rowspan=\"3\" valign=\"top\">Sushi</th>\n",
       "      <th>New York</th>\n",
       "      <td>51.709259</td>\n",
       "    </tr>\n",
       "    <tr>\n",
       "      <th>Philadelphia</th>\n",
       "      <td>49.852857</td>\n",
       "    </tr>\n",
       "    <tr>\n",
       "      <th>Stamford</th>\n",
       "      <td>70.434444</td>\n",
       "    </tr>\n",
       "  </tbody>\n",
       "</table>\n",
       "</div>"
      ],
      "text/plain": [
       "                                   Spend\n",
       "Gender Item      City                   \n",
       "Female Burger    New York      51.626667\n",
       "                 Philadelphia  52.878710\n",
       "                 Stamford      45.037778\n",
       "       Burrito   New York      42.563043\n",
       "                 Philadelphia  52.098571\n",
       "                 Stamford      53.532647\n",
       "       Chalupa   New York      46.135789\n",
       "                 Philadelphia  52.291563\n",
       "                 Stamford      64.094000\n",
       "       Donut     New York      46.670323\n",
       "                 Philadelphia  54.642000\n",
       "                 Stamford      48.734118\n",
       "       Ice Cream New York      56.356296\n",
       "                 Philadelphia  46.225625\n",
       "                 Stamford      46.910455\n",
       "       Sushi     New York      47.751290\n",
       "                 Philadelphia  58.096000\n",
       "                 Stamford      45.622187\n",
       "Male   Burger    New York      58.822273\n",
       "                 Philadelphia  44.675238\n",
       "                 Stamford      46.424516\n",
       "       Burrito   New York      55.976000\n",
       "                 Philadelphia  43.764333\n",
       "                 Stamford      46.438929\n",
       "       Chalupa   New York      49.110800\n",
       "                 Philadelphia  48.444783\n",
       "                 Stamford      50.011304\n",
       "       Donut     New York      44.842333\n",
       "                 Philadelphia  37.859394\n",
       "                 Stamford      49.004483\n",
       "       Ice Cream New York      55.297586\n",
       "                 Philadelphia  53.445610\n",
       "                 Stamford      42.368800\n",
       "       Sushi     New York      51.709259\n",
       "                 Philadelphia  49.852857\n",
       "                 Stamford      70.434444"
      ]
     },
     "execution_count": 26,
     "metadata": {},
     "output_type": "execute_result"
    }
   ],
   "source": [
    "#spend average by gender, item, and city using groupby\n",
    "foods.groupby(by = [\"Gender\", \"Item\", \"City\"]).mean()"
   ]
  },
  {
   "cell_type": "code",
   "execution_count": 27,
   "metadata": {
    "pycharm": {
     "name": "#%%\n"
    }
   },
   "outputs": [
    {
     "data": {
      "text/html": [
       "<div>\n",
       "<style scoped>\n",
       "    .dataframe tbody tr th:only-of-type {\n",
       "        vertical-align: middle;\n",
       "    }\n",
       "\n",
       "    .dataframe tbody tr th {\n",
       "        vertical-align: top;\n",
       "    }\n",
       "\n",
       "    .dataframe thead th {\n",
       "        text-align: right;\n",
       "    }\n",
       "</style>\n",
       "<table border=\"1\" class=\"dataframe\">\n",
       "  <thead>\n",
       "    <tr style=\"text-align: right;\">\n",
       "      <th></th>\n",
       "      <th></th>\n",
       "      <th></th>\n",
       "      <th>Spend</th>\n",
       "    </tr>\n",
       "    <tr>\n",
       "      <th>Gender</th>\n",
       "      <th>Item</th>\n",
       "      <th>City</th>\n",
       "      <th></th>\n",
       "    </tr>\n",
       "  </thead>\n",
       "  <tbody>\n",
       "    <tr>\n",
       "      <th rowspan=\"18\" valign=\"top\">Female</th>\n",
       "      <th rowspan=\"3\" valign=\"top\">Burger</th>\n",
       "      <th>New York</th>\n",
       "      <td>51.626667</td>\n",
       "    </tr>\n",
       "    <tr>\n",
       "      <th>Philadelphia</th>\n",
       "      <td>52.878710</td>\n",
       "    </tr>\n",
       "    <tr>\n",
       "      <th>Stamford</th>\n",
       "      <td>45.037778</td>\n",
       "    </tr>\n",
       "    <tr>\n",
       "      <th rowspan=\"3\" valign=\"top\">Burrito</th>\n",
       "      <th>New York</th>\n",
       "      <td>42.563043</td>\n",
       "    </tr>\n",
       "    <tr>\n",
       "      <th>Philadelphia</th>\n",
       "      <td>52.098571</td>\n",
       "    </tr>\n",
       "    <tr>\n",
       "      <th>Stamford</th>\n",
       "      <td>53.532647</td>\n",
       "    </tr>\n",
       "    <tr>\n",
       "      <th rowspan=\"3\" valign=\"top\">Chalupa</th>\n",
       "      <th>New York</th>\n",
       "      <td>46.135789</td>\n",
       "    </tr>\n",
       "    <tr>\n",
       "      <th>Philadelphia</th>\n",
       "      <td>52.291563</td>\n",
       "    </tr>\n",
       "    <tr>\n",
       "      <th>Stamford</th>\n",
       "      <td>64.094000</td>\n",
       "    </tr>\n",
       "    <tr>\n",
       "      <th rowspan=\"3\" valign=\"top\">Donut</th>\n",
       "      <th>New York</th>\n",
       "      <td>46.670323</td>\n",
       "    </tr>\n",
       "    <tr>\n",
       "      <th>Philadelphia</th>\n",
       "      <td>54.642000</td>\n",
       "    </tr>\n",
       "    <tr>\n",
       "      <th>Stamford</th>\n",
       "      <td>48.734118</td>\n",
       "    </tr>\n",
       "    <tr>\n",
       "      <th rowspan=\"3\" valign=\"top\">Ice Cream</th>\n",
       "      <th>New York</th>\n",
       "      <td>56.356296</td>\n",
       "    </tr>\n",
       "    <tr>\n",
       "      <th>Philadelphia</th>\n",
       "      <td>46.225625</td>\n",
       "    </tr>\n",
       "    <tr>\n",
       "      <th>Stamford</th>\n",
       "      <td>46.910455</td>\n",
       "    </tr>\n",
       "    <tr>\n",
       "      <th rowspan=\"3\" valign=\"top\">Sushi</th>\n",
       "      <th>New York</th>\n",
       "      <td>47.751290</td>\n",
       "    </tr>\n",
       "    <tr>\n",
       "      <th>Philadelphia</th>\n",
       "      <td>58.096000</td>\n",
       "    </tr>\n",
       "    <tr>\n",
       "      <th>Stamford</th>\n",
       "      <td>45.622187</td>\n",
       "    </tr>\n",
       "    <tr>\n",
       "      <th rowspan=\"18\" valign=\"top\">Male</th>\n",
       "      <th rowspan=\"3\" valign=\"top\">Burger</th>\n",
       "      <th>New York</th>\n",
       "      <td>58.822273</td>\n",
       "    </tr>\n",
       "    <tr>\n",
       "      <th>Philadelphia</th>\n",
       "      <td>44.675238</td>\n",
       "    </tr>\n",
       "    <tr>\n",
       "      <th>Stamford</th>\n",
       "      <td>46.424516</td>\n",
       "    </tr>\n",
       "    <tr>\n",
       "      <th rowspan=\"3\" valign=\"top\">Burrito</th>\n",
       "      <th>New York</th>\n",
       "      <td>55.976000</td>\n",
       "    </tr>\n",
       "    <tr>\n",
       "      <th>Philadelphia</th>\n",
       "      <td>43.764333</td>\n",
       "    </tr>\n",
       "    <tr>\n",
       "      <th>Stamford</th>\n",
       "      <td>46.438929</td>\n",
       "    </tr>\n",
       "    <tr>\n",
       "      <th rowspan=\"3\" valign=\"top\">Chalupa</th>\n",
       "      <th>New York</th>\n",
       "      <td>49.110800</td>\n",
       "    </tr>\n",
       "    <tr>\n",
       "      <th>Philadelphia</th>\n",
       "      <td>48.444783</td>\n",
       "    </tr>\n",
       "    <tr>\n",
       "      <th>Stamford</th>\n",
       "      <td>50.011304</td>\n",
       "    </tr>\n",
       "    <tr>\n",
       "      <th rowspan=\"3\" valign=\"top\">Donut</th>\n",
       "      <th>New York</th>\n",
       "      <td>44.842333</td>\n",
       "    </tr>\n",
       "    <tr>\n",
       "      <th>Philadelphia</th>\n",
       "      <td>37.859394</td>\n",
       "    </tr>\n",
       "    <tr>\n",
       "      <th>Stamford</th>\n",
       "      <td>49.004483</td>\n",
       "    </tr>\n",
       "    <tr>\n",
       "      <th rowspan=\"3\" valign=\"top\">Ice Cream</th>\n",
       "      <th>New York</th>\n",
       "      <td>55.297586</td>\n",
       "    </tr>\n",
       "    <tr>\n",
       "      <th>Philadelphia</th>\n",
       "      <td>53.445610</td>\n",
       "    </tr>\n",
       "    <tr>\n",
       "      <th>Stamford</th>\n",
       "      <td>42.368800</td>\n",
       "    </tr>\n",
       "    <tr>\n",
       "      <th rowspan=\"3\" valign=\"top\">Sushi</th>\n",
       "      <th>New York</th>\n",
       "      <td>51.709259</td>\n",
       "    </tr>\n",
       "    <tr>\n",
       "      <th>Philadelphia</th>\n",
       "      <td>49.852857</td>\n",
       "    </tr>\n",
       "    <tr>\n",
       "      <th>Stamford</th>\n",
       "      <td>70.434444</td>\n",
       "    </tr>\n",
       "  </tbody>\n",
       "</table>\n",
       "</div>"
      ],
      "text/plain": [
       "                                   Spend\n",
       "Gender Item      City                   \n",
       "Female Burger    New York      51.626667\n",
       "                 Philadelphia  52.878710\n",
       "                 Stamford      45.037778\n",
       "       Burrito   New York      42.563043\n",
       "                 Philadelphia  52.098571\n",
       "                 Stamford      53.532647\n",
       "       Chalupa   New York      46.135789\n",
       "                 Philadelphia  52.291563\n",
       "                 Stamford      64.094000\n",
       "       Donut     New York      46.670323\n",
       "                 Philadelphia  54.642000\n",
       "                 Stamford      48.734118\n",
       "       Ice Cream New York      56.356296\n",
       "                 Philadelphia  46.225625\n",
       "                 Stamford      46.910455\n",
       "       Sushi     New York      47.751290\n",
       "                 Philadelphia  58.096000\n",
       "                 Stamford      45.622187\n",
       "Male   Burger    New York      58.822273\n",
       "                 Philadelphia  44.675238\n",
       "                 Stamford      46.424516\n",
       "       Burrito   New York      55.976000\n",
       "                 Philadelphia  43.764333\n",
       "                 Stamford      46.438929\n",
       "       Chalupa   New York      49.110800\n",
       "                 Philadelphia  48.444783\n",
       "                 Stamford      50.011304\n",
       "       Donut     New York      44.842333\n",
       "                 Philadelphia  37.859394\n",
       "                 Stamford      49.004483\n",
       "       Ice Cream New York      55.297586\n",
       "                 Philadelphia  53.445610\n",
       "                 Stamford      42.368800\n",
       "       Sushi     New York      51.709259\n",
       "                 Philadelphia  49.852857\n",
       "                 Stamford      70.434444"
      ]
     },
     "execution_count": 27,
     "metadata": {},
     "output_type": "execute_result"
    }
   ],
   "source": [
    "#spend average by gender, item, and city using pivot_table\n",
    "foods.pivot_table(values = \"Spend\", index = [\"Gender\", \"Item\", \"City\"], aggfunc = \"mean\")"
   ]
  },
  {
   "cell_type": "markdown",
   "metadata": {
    "pycharm": {
     "name": "#%% md\n"
    }
   },
   "source": [
    "# Question 4"
   ]
  },
  {
   "cell_type": "code",
   "execution_count": 28,
   "metadata": {
    "pycharm": {
     "name": "#%%\n"
    }
   },
   "outputs": [],
   "source": [
    "week1sales = pd.read_csv(\"Restaurant - Week 1 Sales.csv\")\n",
    "week2sales = pd.read_csv(\"Restaurant - Week 2 Sales.csv\")\n",
    "customers = pd.read_csv(\"Restaurant - Customers.csv\")\n",
    "foods = pd.read_csv(\"Restaurant - Foods.csv\")"
   ]
  },
  {
   "cell_type": "markdown",
   "metadata": {
    "pycharm": {
     "name": "#%% md\n"
    }
   },
   "source": [
    "##### a)"
   ]
  },
  {
   "cell_type": "code",
   "execution_count": 29,
   "metadata": {
    "pycharm": {
     "name": "#%%\n"
    }
   },
   "outputs": [],
   "source": [
    "#creates df where only unique customer values remain, with no duplicates\n",
    "didnotreturn = pd.concat((week1sales, week2sales)).drop_duplicates(\"Customer ID\")"
   ]
  },
  {
   "cell_type": "code",
   "execution_count": 30,
   "metadata": {
    "pycharm": {
     "name": "#%%\n"
    }
   },
   "outputs": [
    {
     "name": "stdout",
     "output_type": "stream",
     "text": [
      "<class 'pandas.core.frame.DataFrame'>\n",
      "Int64Index: 399 entries, 0 to 248\n",
      "Data columns (total 2 columns):\n",
      " #   Column       Non-Null Count  Dtype\n",
      "---  ------       --------------  -----\n",
      " 0   Customer ID  399 non-null    int64\n",
      " 1   Food ID      399 non-null    int64\n",
      "dtypes: int64(2)\n",
      "memory usage: 9.4 KB\n"
     ]
    }
   ],
   "source": [
    "didnotreturn.info()"
   ]
  },
  {
   "cell_type": "code",
   "execution_count": 31,
   "metadata": {
    "scrolled": true,
    "pycharm": {
     "name": "#%%\n"
    }
   },
   "outputs": [
    {
     "data": {
      "text/plain": [
       "Customer ID    399\n",
       "Food ID         10\n",
       "dtype: int64"
      ]
     },
     "execution_count": 31,
     "metadata": {},
     "output_type": "execute_result"
    }
   ],
   "source": [
    "#399 customers ordered food in either week 1 or week 2 but not both\n",
    "didnotreturn.nunique()"
   ]
  },
  {
   "cell_type": "markdown",
   "metadata": {
    "pycharm": {
     "name": "#%% md\n"
    }
   },
   "source": [
    "##### b)"
   ]
  },
  {
   "cell_type": "code",
   "execution_count": 32,
   "metadata": {
    "pycharm": {
     "name": "#%%\n"
    }
   },
   "outputs": [],
   "source": [
    "#merges week 2 sales data and customers data, dropping ID to avoid duplicate key columns\n",
    "week2customers = pd.merge(week2sales, customers, how = 'inner', left_on = \"Customer ID\", right_on = \"ID\").drop(\"ID\", axis = 1)"
   ]
  },
  {
   "cell_type": "code",
   "execution_count": 35,
   "metadata": {
    "pycharm": {
     "name": "#%%\n"
    }
   },
   "outputs": [],
   "source": [
    "#merges previous frame with foods frame, to get full comparison\n",
    "week2foodcustomers = pd.merge(week2customers, foods, how = 'left', on = \"Food ID\")"
   ]
  },
  {
   "cell_type": "code",
   "execution_count": 34,
   "metadata": {
    "pycharm": {
     "name": "#%%\n"
    }
   },
   "outputs": [
    {
     "data": {
      "text/html": [
       "<div>\n",
       "<style scoped>\n",
       "    .dataframe tbody tr th:only-of-type {\n",
       "        vertical-align: middle;\n",
       "    }\n",
       "\n",
       "    .dataframe tbody tr th {\n",
       "        vertical-align: top;\n",
       "    }\n",
       "\n",
       "    .dataframe thead th {\n",
       "        text-align: right;\n",
       "    }\n",
       "</style>\n",
       "<table border=\"1\" class=\"dataframe\">\n",
       "  <thead>\n",
       "    <tr style=\"text-align: right;\">\n",
       "      <th></th>\n",
       "      <th>Customer ID</th>\n",
       "      <th>Food ID</th>\n",
       "      <th>First Name</th>\n",
       "      <th>Last Name</th>\n",
       "      <th>Gender</th>\n",
       "      <th>Company</th>\n",
       "      <th>Occupation</th>\n",
       "      <th>Food Item</th>\n",
       "      <th>Price</th>\n",
       "    </tr>\n",
       "  </thead>\n",
       "  <tbody>\n",
       "    <tr>\n",
       "      <th>0</th>\n",
       "      <td>688</td>\n",
       "      <td>10</td>\n",
       "      <td>Carl</td>\n",
       "      <td>Williamson</td>\n",
       "      <td>Male</td>\n",
       "      <td>Thoughtmix</td>\n",
       "      <td>Graphic Designer</td>\n",
       "      <td>Drink</td>\n",
       "      <td>1.75</td>\n",
       "    </tr>\n",
       "    <tr>\n",
       "      <th>1</th>\n",
       "      <td>813</td>\n",
       "      <td>7</td>\n",
       "      <td>Johnny</td>\n",
       "      <td>Walker</td>\n",
       "      <td>Male</td>\n",
       "      <td>Kayveo</td>\n",
       "      <td>Developer II</td>\n",
       "      <td>Steak</td>\n",
       "      <td>24.99</td>\n",
       "    </tr>\n",
       "    <tr>\n",
       "      <th>2</th>\n",
       "      <td>495</td>\n",
       "      <td>10</td>\n",
       "      <td>Deborah</td>\n",
       "      <td>Little</td>\n",
       "      <td>Female</td>\n",
       "      <td>Babbleblab</td>\n",
       "      <td>VP Accounting</td>\n",
       "      <td>Drink</td>\n",
       "      <td>1.75</td>\n",
       "    </tr>\n",
       "    <tr>\n",
       "      <th>3</th>\n",
       "      <td>495</td>\n",
       "      <td>6</td>\n",
       "      <td>Deborah</td>\n",
       "      <td>Little</td>\n",
       "      <td>Female</td>\n",
       "      <td>Babbleblab</td>\n",
       "      <td>VP Accounting</td>\n",
       "      <td>Pasta</td>\n",
       "      <td>13.99</td>\n",
       "    </tr>\n",
       "    <tr>\n",
       "      <th>4</th>\n",
       "      <td>495</td>\n",
       "      <td>2</td>\n",
       "      <td>Deborah</td>\n",
       "      <td>Little</td>\n",
       "      <td>Female</td>\n",
       "      <td>Babbleblab</td>\n",
       "      <td>VP Accounting</td>\n",
       "      <td>Burrito</td>\n",
       "      <td>9.99</td>\n",
       "    </tr>\n",
       "    <tr>\n",
       "      <th>...</th>\n",
       "      <td>...</td>\n",
       "      <td>...</td>\n",
       "      <td>...</td>\n",
       "      <td>...</td>\n",
       "      <td>...</td>\n",
       "      <td>...</td>\n",
       "      <td>...</td>\n",
       "      <td>...</td>\n",
       "      <td>...</td>\n",
       "    </tr>\n",
       "    <tr>\n",
       "      <th>245</th>\n",
       "      <td>945</td>\n",
       "      <td>4</td>\n",
       "      <td>Anne</td>\n",
       "      <td>Reed</td>\n",
       "      <td>Female</td>\n",
       "      <td>Twitterworks</td>\n",
       "      <td>Director of Sales</td>\n",
       "      <td>Quesadilla</td>\n",
       "      <td>4.25</td>\n",
       "    </tr>\n",
       "    <tr>\n",
       "      <th>246</th>\n",
       "      <td>783</td>\n",
       "      <td>10</td>\n",
       "      <td>Phyllis</td>\n",
       "      <td>Meyer</td>\n",
       "      <td>Female</td>\n",
       "      <td>Voolia</td>\n",
       "      <td>Information Systems Manager</td>\n",
       "      <td>Drink</td>\n",
       "      <td>1.75</td>\n",
       "    </tr>\n",
       "    <tr>\n",
       "      <th>247</th>\n",
       "      <td>556</td>\n",
       "      <td>10</td>\n",
       "      <td>Samuel</td>\n",
       "      <td>Bailey</td>\n",
       "      <td>Male</td>\n",
       "      <td>Oyoloo</td>\n",
       "      <td>Nurse</td>\n",
       "      <td>Drink</td>\n",
       "      <td>1.75</td>\n",
       "    </tr>\n",
       "    <tr>\n",
       "      <th>248</th>\n",
       "      <td>252</td>\n",
       "      <td>9</td>\n",
       "      <td>Douglas</td>\n",
       "      <td>Powell</td>\n",
       "      <td>Male</td>\n",
       "      <td>Jetwire</td>\n",
       "      <td>Geologist IV</td>\n",
       "      <td>Donut</td>\n",
       "      <td>0.99</td>\n",
       "    </tr>\n",
       "    <tr>\n",
       "      <th>249</th>\n",
       "      <td>249</td>\n",
       "      <td>6</td>\n",
       "      <td>Anthony</td>\n",
       "      <td>Carpenter</td>\n",
       "      <td>Male</td>\n",
       "      <td>Shuffletag</td>\n",
       "      <td>Health Coach I</td>\n",
       "      <td>Pasta</td>\n",
       "      <td>13.99</td>\n",
       "    </tr>\n",
       "  </tbody>\n",
       "</table>\n",
       "<p>250 rows × 9 columns</p>\n",
       "</div>"
      ],
      "text/plain": [
       "     Customer ID  Food ID First Name   Last Name  Gender       Company  \\\n",
       "0            688       10       Carl  Williamson    Male    Thoughtmix   \n",
       "1            813        7     Johnny      Walker    Male        Kayveo   \n",
       "2            495       10    Deborah      Little  Female    Babbleblab   \n",
       "3            495        6    Deborah      Little  Female    Babbleblab   \n",
       "4            495        2    Deborah      Little  Female    Babbleblab   \n",
       "..           ...      ...        ...         ...     ...           ...   \n",
       "245          945        4       Anne        Reed  Female  Twitterworks   \n",
       "246          783       10    Phyllis       Meyer  Female        Voolia   \n",
       "247          556       10     Samuel      Bailey    Male        Oyoloo   \n",
       "248          252        9    Douglas      Powell    Male       Jetwire   \n",
       "249          249        6    Anthony   Carpenter    Male    Shuffletag   \n",
       "\n",
       "                      Occupation   Food Item  Price  \n",
       "0               Graphic Designer       Drink   1.75  \n",
       "1                   Developer II       Steak  24.99  \n",
       "2                  VP Accounting       Drink   1.75  \n",
       "3                  VP Accounting       Pasta  13.99  \n",
       "4                  VP Accounting     Burrito   9.99  \n",
       "..                           ...         ...    ...  \n",
       "245            Director of Sales  Quesadilla   4.25  \n",
       "246  Information Systems Manager       Drink   1.75  \n",
       "247                        Nurse       Drink   1.75  \n",
       "248                 Geologist IV       Donut   0.99  \n",
       "249               Health Coach I       Pasta  13.99  \n",
       "\n",
       "[250 rows x 9 columns]"
      ]
     },
     "execution_count": 34,
     "metadata": {},
     "output_type": "execute_result"
    }
   ],
   "source": [
    "#fully merged data set with customers, sales, and food data\n",
    "#(question is ambiguous, it mentions both customers, week 2, and food, so I created a fully merged data set)\n",
    "#(states to consider week 2 sales and customers, but then says to merge so it shows food info with week 2 customers)\n",
    "week2foodcustomers"
   ]
  }
 ],
 "metadata": {
  "kernelspec": {
   "display_name": "Python 3",
   "language": "python",
   "name": "python3"
  },
  "language_info": {
   "codemirror_mode": {
    "name": "ipython",
    "version": 3
   },
   "file_extension": ".py",
   "mimetype": "text/x-python",
   "name": "python",
   "nbconvert_exporter": "python",
   "pygments_lexer": "ipython3",
   "version": "3.8.3"
  }
 },
 "nbformat": 4,
 "nbformat_minor": 4
}