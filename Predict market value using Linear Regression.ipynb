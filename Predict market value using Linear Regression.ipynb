{
 "cells": [
  {
   "cell_type": "code",
   "execution_count": 1,
   "metadata": {},
   "outputs": [],
   "source": [
    "import pandas as pd\n",
    "import seaborn as sns\n",
    "import numpy as np\n",
    "import matplotlib.pyplot as plt\n",
    "import statsmodels.api as sm"
   ]
  },
  {
   "cell_type": "code",
   "execution_count": 2,
   "metadata": {},
   "outputs": [],
   "source": [
    "# download GlenCove excel data\n",
    "df = pd.read_excel(\"GlenCove.xlsx\")"
   ]
  },
  {
   "cell_type": "code",
   "execution_count": 3,
   "metadata": {},
   "outputs": [
    {
     "data": {
      "text/html": [
       "<div>\n",
       "<style scoped>\n",
       "    .dataframe tbody tr th:only-of-type {\n",
       "        vertical-align: middle;\n",
       "    }\n",
       "\n",
       "    .dataframe tbody tr th {\n",
       "        vertical-align: top;\n",
       "    }\n",
       "\n",
       "    .dataframe thead th {\n",
       "        text-align: right;\n",
       "    }\n",
       "</style>\n",
       "<table border=\"1\" class=\"dataframe\">\n",
       "  <thead>\n",
       "    <tr style=\"text-align: right;\">\n",
       "      <th></th>\n",
       "      <th>Address</th>\n",
       "      <th>Fair Market Value($000)</th>\n",
       "      <th>Property Size (acres)</th>\n",
       "      <th>Age</th>\n",
       "      <th>House Size (square feet)</th>\n",
       "      <th>Rooms</th>\n",
       "      <th>Baths</th>\n",
       "      <th>Garage</th>\n",
       "    </tr>\n",
       "  </thead>\n",
       "  <tbody>\n",
       "    <tr>\n",
       "      <th>0</th>\n",
       "      <td>9 Sycamore Road</td>\n",
       "      <td>522.9</td>\n",
       "      <td>0.2297</td>\n",
       "      <td>56</td>\n",
       "      <td>2448</td>\n",
       "      <td>7</td>\n",
       "      <td>3.5</td>\n",
       "      <td>2</td>\n",
       "    </tr>\n",
       "    <tr>\n",
       "      <th>1</th>\n",
       "      <td>21 Jefferson St</td>\n",
       "      <td>425.0</td>\n",
       "      <td>0.2192</td>\n",
       "      <td>61</td>\n",
       "      <td>1942</td>\n",
       "      <td>7</td>\n",
       "      <td>2.5</td>\n",
       "      <td>1</td>\n",
       "    </tr>\n",
       "    <tr>\n",
       "      <th>2</th>\n",
       "      <td>38 Hitching Post Lane</td>\n",
       "      <td>539.2</td>\n",
       "      <td>0.1630</td>\n",
       "      <td>39</td>\n",
       "      <td>2073</td>\n",
       "      <td>5</td>\n",
       "      <td>3.0</td>\n",
       "      <td>2</td>\n",
       "    </tr>\n",
       "    <tr>\n",
       "      <th>3</th>\n",
       "      <td>4 Poppy Lane</td>\n",
       "      <td>628.2</td>\n",
       "      <td>0.4608</td>\n",
       "      <td>28</td>\n",
       "      <td>2707</td>\n",
       "      <td>8</td>\n",
       "      <td>2.5</td>\n",
       "      <td>1</td>\n",
       "    </tr>\n",
       "    <tr>\n",
       "      <th>4</th>\n",
       "      <td>5 Daniel Drive</td>\n",
       "      <td>490.4</td>\n",
       "      <td>0.2549</td>\n",
       "      <td>56</td>\n",
       "      <td>2042</td>\n",
       "      <td>7</td>\n",
       "      <td>1.5</td>\n",
       "      <td>1</td>\n",
       "    </tr>\n",
       "    <tr>\n",
       "      <th>5</th>\n",
       "      <td>15 Francis Terrace</td>\n",
       "      <td>487.7</td>\n",
       "      <td>0.2290</td>\n",
       "      <td>98</td>\n",
       "      <td>2089</td>\n",
       "      <td>7</td>\n",
       "      <td>2.0</td>\n",
       "      <td>0</td>\n",
       "    </tr>\n",
       "    <tr>\n",
       "      <th>6</th>\n",
       "      <td>23 Guilfoy Street</td>\n",
       "      <td>370.3</td>\n",
       "      <td>0.1808</td>\n",
       "      <td>58</td>\n",
       "      <td>1433</td>\n",
       "      <td>7</td>\n",
       "      <td>2.0</td>\n",
       "      <td>0</td>\n",
       "    </tr>\n",
       "    <tr>\n",
       "      <th>7</th>\n",
       "      <td>17 Carlyle Drive</td>\n",
       "      <td>777.9</td>\n",
       "      <td>0.5015</td>\n",
       "      <td>17</td>\n",
       "      <td>2991</td>\n",
       "      <td>9</td>\n",
       "      <td>2.5</td>\n",
       "      <td>1</td>\n",
       "    </tr>\n",
       "    <tr>\n",
       "      <th>8</th>\n",
       "      <td>8 Craft Avenue</td>\n",
       "      <td>347.1</td>\n",
       "      <td>0.2229</td>\n",
       "      <td>62</td>\n",
       "      <td>1008</td>\n",
       "      <td>5</td>\n",
       "      <td>1.0</td>\n",
       "      <td>0</td>\n",
       "    </tr>\n",
       "    <tr>\n",
       "      <th>9</th>\n",
       "      <td>22 Beechwood Ct.</td>\n",
       "      <td>756.8</td>\n",
       "      <td>0.1300</td>\n",
       "      <td>25</td>\n",
       "      <td>3202</td>\n",
       "      <td>8</td>\n",
       "      <td>2.5</td>\n",
       "      <td>2</td>\n",
       "    </tr>\n",
       "  </tbody>\n",
       "</table>\n",
       "</div>"
      ],
      "text/plain": [
       "                 Address  Fair Market Value($000)  Property Size (acres)  Age  \\\n",
       "0        9 Sycamore Road                    522.9                 0.2297   56   \n",
       "1        21 Jefferson St                    425.0                 0.2192   61   \n",
       "2  38 Hitching Post Lane                    539.2                 0.1630   39   \n",
       "3           4 Poppy Lane                    628.2                 0.4608   28   \n",
       "4         5 Daniel Drive                    490.4                 0.2549   56   \n",
       "5     15 Francis Terrace                    487.7                 0.2290   98   \n",
       "6      23 Guilfoy Street                    370.3                 0.1808   58   \n",
       "7       17 Carlyle Drive                    777.9                 0.5015   17   \n",
       "8         8 Craft Avenue                    347.1                 0.2229   62   \n",
       "9       22 Beechwood Ct.                    756.8                 0.1300   25   \n",
       "\n",
       "   House Size (square feet)  Rooms  Baths  Garage  \n",
       "0                      2448      7    3.5       2  \n",
       "1                      1942      7    2.5       1  \n",
       "2                      2073      5    3.0       2  \n",
       "3                      2707      8    2.5       1  \n",
       "4                      2042      7    1.5       1  \n",
       "5                      2089      7    2.0       0  \n",
       "6                      1433      7    2.0       0  \n",
       "7                      2991      9    2.5       1  \n",
       "8                      1008      5    1.0       0  \n",
       "9                      3202      8    2.5       2  "
      ]
     },
     "execution_count": 3,
     "metadata": {},
     "output_type": "execute_result"
    }
   ],
   "source": [
    "# display first ten rows of data\n",
    "df.head(n=10)"
   ]
  },
  {
   "cell_type": "code",
   "execution_count": 4,
   "metadata": {},
   "outputs": [],
   "source": [
    "# renames market value, property size, and house size columns\n",
    "df.columns = ['Address', 'market_value', 'property_size', 'Age', 'house_size', 'Rooms', 'Baths','Garage']"
   ]
  },
  {
   "cell_type": "code",
   "execution_count": 5,
   "metadata": {},
   "outputs": [],
   "source": [
    "# creates new dataframe without age column\n",
    "newdf = df.drop(columns = 'Age')\n",
    "\n",
    "# sets Garage to binary of 0 for no garage, and 1 for garage\n",
    "# Garage data contains only values 0, 1, and 2 - only need to replace 2 with 1\n",
    "newdf[\"Garage\"] = newdf.Garage.replace({2:1})"
   ]
  },
  {
   "cell_type": "code",
   "execution_count": 6,
   "metadata": {},
   "outputs": [
    {
     "name": "stdout",
     "output_type": "stream",
     "text": [
      "       market_value  property_size   house_size      Rooms      Baths  \\\n",
      "count     30.000000      30.000000    30.000000  30.000000  30.000000   \n",
      "mean     474.910000       0.275960  1978.833333   6.833333   2.000000   \n",
      "std      144.312669       0.236445   550.875234   1.487496   0.694808   \n",
      "min      310.200000       0.085200  1008.000000   5.000000   1.000000   \n",
      "25%      374.675000       0.152650  1622.250000   6.000000   1.625000   \n",
      "50%      431.200000       0.204050  1992.000000   7.000000   2.000000   \n",
      "75%      535.125000       0.270350  2205.500000   7.750000   2.500000   \n",
      "max      889.000000       1.310000  3202.000000  11.000000   3.500000   \n",
      "\n",
      "          Garage  \n",
      "count  30.000000  \n",
      "mean    0.566667  \n",
      "std     0.504007  \n",
      "min     0.000000  \n",
      "25%     0.000000  \n",
      "50%     1.000000  \n",
      "75%     1.000000  \n",
      "max     1.000000  \n"
     ]
    }
   ],
   "source": [
    "# print summary stats for remaining columns\n",
    "print(newdf.describe())"
   ]
  },
  {
   "cell_type": "code",
   "execution_count": 7,
   "metadata": {},
   "outputs": [
    {
     "name": "stdout",
     "output_type": "stream",
     "text": [
      "               property_size  house_size     Rooms     Baths\n",
      "property_size       1.000000    0.211664  0.052963  0.053408\n",
      "house_size          0.211664    1.000000  0.399573  0.521314\n",
      "Rooms               0.052963    0.399573  1.000000  0.133457\n",
      "Baths               0.053408    0.521314  0.133457  1.000000\n"
     ]
    }
   ],
   "source": [
    "# print correlation for prop size, house size, rooms and baths\n",
    "print(newdf[['property_size','house_size','Rooms','Baths']].corr())"
   ]
  },
  {
   "cell_type": "markdown",
   "metadata": {},
   "source": [
    "All of the correlations are positive in nature, with varying levels of correlation\n",
    "1. property_size and house_size = 0.211664\n",
    "2. property_size and Rooms = 0.052963\n",
    "3. property_size and Baths = 0.053408\n",
    "4. house_size and Rooms = 0.399573\n",
    "5. house_size and Baths = 0.521314\n",
    "6. Rooms and Baths = 0.133457"
   ]
  },
  {
   "cell_type": "code",
   "execution_count": 8,
   "metadata": {
    "scrolled": true
   },
   "outputs": [
    {
     "name": "stdout",
     "output_type": "stream",
     "text": [
      "                            OLS Regression Results                            \n",
      "==============================================================================\n",
      "Dep. Variable:           market_value   R-squared:                       0.815\n",
      "Model:                            OLS   Adj. R-squared:                  0.776\n",
      "Method:                 Least Squares   F-statistic:                     21.09\n",
      "Date:                Sat, 10 Oct 2020   Prob (F-statistic):           4.52e-08\n",
      "Time:                        22:03:20   Log-Likelihood:                -165.94\n",
      "No. Observations:                  30   AIC:                             343.9\n",
      "Df Residuals:                      24   BIC:                             352.3\n",
      "Df Model:                           5                                         \n",
      "Covariance Type:            nonrobust                                         \n",
      "=================================================================================\n",
      "                    coef    std err          t      P>|t|      [0.025      0.975]\n",
      "---------------------------------------------------------------------------------\n",
      "Intercept        78.0523     67.779      1.152      0.261     -61.837     217.942\n",
      "property_size   359.3104     56.919      6.313      0.000     241.836     476.785\n",
      "house_size        0.1025      0.033      3.117      0.005       0.035       0.170\n",
      "Rooms             0.7385      9.667      0.076      0.940     -19.214      20.691\n",
      "Baths            36.8445     21.904      1.682      0.106      -8.363      82.052\n",
      "Garage           28.3802     31.716      0.895      0.380     -37.078      93.839\n",
      "==============================================================================\n",
      "Omnibus:                        4.370   Durbin-Watson:                   1.619\n",
      "Prob(Omnibus):                  0.112   Jarque-Bera (JB):                2.767\n",
      "Skew:                           0.569   Prob(JB):                        0.251\n",
      "Kurtosis:                       3.958   Cond. No.                     1.15e+04\n",
      "==============================================================================\n",
      "\n",
      "Warnings:\n",
      "[1] Standard Errors assume that the covariance matrix of the errors is correctly specified.\n",
      "[2] The condition number is large, 1.15e+04. This might indicate that there are\n",
      "strong multicollinearity or other numerical problems.\n"
     ]
    }
   ],
   "source": [
    "# create linear regression, then create and print summary\n",
    "results = sm.formula.ols('market_value ~ property_size + house_size + Rooms + Baths + Garage', newdf).fit()\n",
    "results_sum = results.summary()\n",
    "print(results_sum)"
   ]
  },
  {
   "cell_type": "code",
   "execution_count": 9,
   "metadata": {
    "scrolled": true
   },
   "outputs": [
    {
     "name": "stdout",
     "output_type": "stream",
     "text": [
      "                      sum_sq    df          F    PR(>F)\n",
      "property_size  185956.980096   1.0  39.850226  0.000002\n",
      "house_size      45335.829171   1.0   9.715382  0.004693\n",
      "Rooms              27.229339   1.0   0.005835  0.939743\n",
      "Baths           13203.326340   1.0   2.829448  0.105518\n",
      "Garage           3736.437085   1.0   0.800711  0.379768\n",
      "Residual       111993.529961  24.0        NaN       NaN\n"
     ]
    }
   ],
   "source": [
    "# creates and prints anova table\n",
    "aov_table = sm.stats.anova_lm(results, typ = 2)\n",
    "print(aov_table)"
   ]
  },
  {
   "cell_type": "markdown",
   "metadata": {},
   "source": [
    "This model actually performs very well. The R-squared value is relatively high in the range at 0.815, and the probability is 4.52e-08. The probability alone is well below the 0.05 threshold to reject a null hypothesis. Most of the value in this model is coming from property_size and house_size, not much clarity would be lost if Rooms, Baths and Garage were excluded from the regression."
   ]
  },
  {
   "cell_type": "markdown",
   "metadata": {},
   "source": [
    "The regression equation would be:\n",
    "\n",
    "market_value = 78.0523 + 359.3104 * property_size + 0.1025 * house_size + 0.7385 * Rooms + 36.8445 * Baths + 28.3802 * Garage"
   ]
  },
  {
   "cell_type": "markdown",
   "metadata": {},
   "source": [
    "The fair market value ($000) of a house that is 2000 sqft, on 0.30 acres, with 6 rooms, 2 bathrooms, and has a garage would be 497.34562"
   ]
  }
 ],
 "metadata": {
  "kernelspec": {
   "display_name": "Python 3",
   "language": "python",
   "name": "python3"
  },
  "language_info": {
   "codemirror_mode": {
    "name": "ipython",
    "version": 3
   },
   "file_extension": ".py",
   "mimetype": "text/x-python",
   "name": "python",
   "nbconvert_exporter": "python",
   "pygments_lexer": "ipython3",
   "version": "3.8.3"
  }
 },
 "nbformat": 4,
 "nbformat_minor": 4
}
