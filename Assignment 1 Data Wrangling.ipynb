{
 "cells": [
  {
   "cell_type": "markdown",
   "metadata": {},
   "source": [
    "# 1."
   ]
  },
  {
   "cell_type": "markdown",
   "metadata": {},
   "source": [
    "The unique attribute of of panda's series does not return a boolean value. The unique attribute returns a list of all unique values that are found within the series, with one instance showing regardless of frequency in the series. To return a Boolean value of true of false in regards to all of the values being unique, the series method of pd.Series.is_unique can be used."
   ]
  },
  {
   "cell_type": "markdown",
   "metadata": {},
   "source": [
    "# 2."
   ]
  },
  {
   "cell_type": "code",
   "execution_count": 1,
   "metadata": {},
   "outputs": [],
   "source": [
    "import pandas as pd\n",
    "import numpy as np\n",
    "titanic = pd.read_csv(\"titanic.csv\")"
   ]
  },
  {
   "cell_type": "code",
   "execution_count": 2,
   "metadata": {},
   "outputs": [],
   "source": [
    "titanicseries = pd.Series(titanic[\"Name\"])"
   ]
  },
  {
   "cell_type": "code",
   "execution_count": 3,
   "metadata": {},
   "outputs": [],
   "source": [
    "#Index label does not exist - nothing shows up as default parameter listed as none\n",
    "titanicseries.get(891)"
   ]
  },
  {
   "cell_type": "code",
   "execution_count": 4,
   "metadata": {},
   "outputs": [
    {
     "data": {
      "text/plain": [
       "'does not exist'"
      ]
     },
     "execution_count": 4,
     "metadata": {},
     "output_type": "execute_result"
    }
   ],
   "source": [
    "# to get does not exist, change default paramater \n",
    "titanicseries.get(891, default = \"does not exist\")"
   ]
  },
  {
   "cell_type": "code",
   "execution_count": 5,
   "metadata": {},
   "outputs": [
    {
     "data": {
      "text/plain": [
       "1    Cumings, Mrs. John Bradley (Florence Briggs Th...\n",
       "3         Futrelle, Mrs. Jacques Heath (Lily May Peel)\n",
       "Name: Name, dtype: object"
      ]
     },
     "execution_count": 5,
     "metadata": {},
     "output_type": "execute_result"
    }
   ],
   "source": [
    "#using get method, both values show up\n",
    "titanicseries.get([1,3])"
   ]
  },
  {
   "cell_type": "code",
   "execution_count": 6,
   "metadata": {},
   "outputs": [
    {
     "data": {
      "text/plain": [
       "'does not exist'"
      ]
     },
     "execution_count": 6,
     "metadata": {},
     "output_type": "execute_result"
    }
   ],
   "source": [
    "#using get method, if one value doesn't exist it will display only does not exist\n",
    "titanicseries.get([1,891], default = \"does not exist\")"
   ]
  },
  {
   "cell_type": "markdown",
   "metadata": {},
   "source": [
    "# 3."
   ]
  },
  {
   "cell_type": "code",
   "execution_count": 7,
   "metadata": {},
   "outputs": [],
   "source": [
    "nobel = pd.read_csv(\"nobel.csv\")"
   ]
  },
  {
   "cell_type": "code",
   "execution_count": 8,
   "metadata": {},
   "outputs": [],
   "source": [
    "#a\n",
    "new_nobel = nobel[[\"Year\", \"Category\", \"Prize\", \"Motivation\", \"Laureate Type\",\n",
    "\"Full Name\", \"Birth Date\", \"Birth Country\", \"Birth City\", \"Sex\", \"Death Date\"]].copy()"
   ]
  },
  {
   "cell_type": "code",
   "execution_count": 9,
   "metadata": {},
   "outputs": [
    {
     "data": {
      "text/plain": [
       "Individual      939\n",
       "Organization     30\n",
       "Name: Laureate Type, dtype: int64"
      ]
     },
     "execution_count": 9,
     "metadata": {},
     "output_type": "execute_result"
    }
   ],
   "source": [
    "#b - 939 individuals and 30 organizations\n",
    "new_nobel[\"Laureate Type\"].value_counts()"
   ]
  },
  {
   "cell_type": "code",
   "execution_count": 10,
   "metadata": {},
   "outputs": [],
   "source": [
    "#c\n",
    "\n",
    "#creates age column with constant value 50\n",
    "new_nobel[\"Age\"] = 50"
   ]
  },
  {
   "cell_type": "code",
   "execution_count": 11,
   "metadata": {},
   "outputs": [],
   "source": [
    "#d\n",
    "\n",
    "# replaces nan values with 0\n",
    "new_nobel[\"Birth Date\"] = new_nobel[\"Birth Date\"].replace(np.nan, 0)\n",
    "#calculates real age by subtracting birth year from year prize received\n",
    "new_nobel[\"Real Age\"] = new_nobel[\"Year\"] - pd.to_numeric(new_nobel[\"Birth Date\"].str[0:4])"
   ]
  },
  {
   "cell_type": "code",
   "execution_count": 12,
   "metadata": {},
   "outputs": [
    {
     "data": {
      "text/html": [
       "<div>\n",
       "<style scoped>\n",
       "    .dataframe tbody tr th:only-of-type {\n",
       "        vertical-align: middle;\n",
       "    }\n",
       "\n",
       "    .dataframe tbody tr th {\n",
       "        vertical-align: top;\n",
       "    }\n",
       "\n",
       "    .dataframe thead th {\n",
       "        text-align: right;\n",
       "    }\n",
       "</style>\n",
       "<table border=\"1\" class=\"dataframe\">\n",
       "  <thead>\n",
       "    <tr style=\"text-align: right;\">\n",
       "      <th></th>\n",
       "      <th>Year</th>\n",
       "      <th>Category</th>\n",
       "      <th>Prize</th>\n",
       "      <th>Motivation</th>\n",
       "      <th>Laureate Type</th>\n",
       "      <th>Full Name</th>\n",
       "      <th>Birth Date</th>\n",
       "      <th>Birth Country</th>\n",
       "      <th>Birth City</th>\n",
       "      <th>Sex</th>\n",
       "      <th>Death Date</th>\n",
       "      <th>Real Age</th>\n",
       "    </tr>\n",
       "  </thead>\n",
       "  <tbody>\n",
       "    <tr>\n",
       "      <th>0</th>\n",
       "      <td>1901</td>\n",
       "      <td>Chemistry</td>\n",
       "      <td>The Nobel Prize in Chemistry 1901</td>\n",
       "      <td>\"in recognition of the extraordinary services ...</td>\n",
       "      <td>Individual</td>\n",
       "      <td>Jacobus Henricus van 't Hoff</td>\n",
       "      <td>1852-08-30</td>\n",
       "      <td>Netherlands</td>\n",
       "      <td>Rotterdam</td>\n",
       "      <td>Male</td>\n",
       "      <td>1911-03-01</td>\n",
       "      <td>49.0</td>\n",
       "    </tr>\n",
       "    <tr>\n",
       "      <th>1</th>\n",
       "      <td>1901</td>\n",
       "      <td>Literature</td>\n",
       "      <td>The Nobel Prize in Literature 1901</td>\n",
       "      <td>\"in special recognition of his poetic composit...</td>\n",
       "      <td>Individual</td>\n",
       "      <td>Sully Prudhomme</td>\n",
       "      <td>1839-03-16</td>\n",
       "      <td>France</td>\n",
       "      <td>Paris</td>\n",
       "      <td>Male</td>\n",
       "      <td>1907-09-07</td>\n",
       "      <td>62.0</td>\n",
       "    </tr>\n",
       "    <tr>\n",
       "      <th>2</th>\n",
       "      <td>1901</td>\n",
       "      <td>Medicine</td>\n",
       "      <td>The Nobel Prize in Physiology or Medicine 1901</td>\n",
       "      <td>\"for his work on serum therapy, especially its...</td>\n",
       "      <td>Individual</td>\n",
       "      <td>Emil Adolf von Behring</td>\n",
       "      <td>1854-03-15</td>\n",
       "      <td>Prussia (Poland)</td>\n",
       "      <td>Hansdorf (Lawice)</td>\n",
       "      <td>Male</td>\n",
       "      <td>1917-03-31</td>\n",
       "      <td>47.0</td>\n",
       "    </tr>\n",
       "    <tr>\n",
       "      <th>3</th>\n",
       "      <td>1901</td>\n",
       "      <td>Peace</td>\n",
       "      <td>The Nobel Peace Prize 1901</td>\n",
       "      <td>NaN</td>\n",
       "      <td>Individual</td>\n",
       "      <td>Jean Henry Dunant</td>\n",
       "      <td>1828-05-08</td>\n",
       "      <td>Switzerland</td>\n",
       "      <td>Geneva</td>\n",
       "      <td>Male</td>\n",
       "      <td>1910-10-30</td>\n",
       "      <td>73.0</td>\n",
       "    </tr>\n",
       "    <tr>\n",
       "      <th>4</th>\n",
       "      <td>1901</td>\n",
       "      <td>Peace</td>\n",
       "      <td>The Nobel Peace Prize 1901</td>\n",
       "      <td>NaN</td>\n",
       "      <td>Individual</td>\n",
       "      <td>Frédéric Passy</td>\n",
       "      <td>1822-05-20</td>\n",
       "      <td>France</td>\n",
       "      <td>Paris</td>\n",
       "      <td>Male</td>\n",
       "      <td>1912-06-12</td>\n",
       "      <td>79.0</td>\n",
       "    </tr>\n",
       "    <tr>\n",
       "      <th>...</th>\n",
       "      <td>...</td>\n",
       "      <td>...</td>\n",
       "      <td>...</td>\n",
       "      <td>...</td>\n",
       "      <td>...</td>\n",
       "      <td>...</td>\n",
       "      <td>...</td>\n",
       "      <td>...</td>\n",
       "      <td>...</td>\n",
       "      <td>...</td>\n",
       "      <td>...</td>\n",
       "      <td>...</td>\n",
       "    </tr>\n",
       "    <tr>\n",
       "      <th>964</th>\n",
       "      <td>2016</td>\n",
       "      <td>Medicine</td>\n",
       "      <td>The Nobel Prize in Physiology or Medicine 2016</td>\n",
       "      <td>\"for his discoveries of mechanisms for autophagy\"</td>\n",
       "      <td>Individual</td>\n",
       "      <td>Yoshinori Ohsumi</td>\n",
       "      <td>1945-02-09</td>\n",
       "      <td>Japan</td>\n",
       "      <td>Fukuoka</td>\n",
       "      <td>Male</td>\n",
       "      <td>NaN</td>\n",
       "      <td>71.0</td>\n",
       "    </tr>\n",
       "    <tr>\n",
       "      <th>965</th>\n",
       "      <td>2016</td>\n",
       "      <td>Peace</td>\n",
       "      <td>The Nobel Peace Prize 2016</td>\n",
       "      <td>\"for his resolute efforts to bring the country...</td>\n",
       "      <td>Individual</td>\n",
       "      <td>Juan Manuel Santos</td>\n",
       "      <td>1951-08-10</td>\n",
       "      <td>Colombia</td>\n",
       "      <td>Bogotá</td>\n",
       "      <td>Male</td>\n",
       "      <td>NaN</td>\n",
       "      <td>65.0</td>\n",
       "    </tr>\n",
       "    <tr>\n",
       "      <th>966</th>\n",
       "      <td>2016</td>\n",
       "      <td>Physics</td>\n",
       "      <td>The Nobel Prize in Physics 2016</td>\n",
       "      <td>\"for theoretical discoveries of topological ph...</td>\n",
       "      <td>Individual</td>\n",
       "      <td>David J. Thouless</td>\n",
       "      <td>1934-09-21</td>\n",
       "      <td>United Kingdom</td>\n",
       "      <td>Bearsden</td>\n",
       "      <td>Male</td>\n",
       "      <td>NaN</td>\n",
       "      <td>82.0</td>\n",
       "    </tr>\n",
       "    <tr>\n",
       "      <th>967</th>\n",
       "      <td>2016</td>\n",
       "      <td>Physics</td>\n",
       "      <td>The Nobel Prize in Physics 2016</td>\n",
       "      <td>\"for theoretical discoveries of topological ph...</td>\n",
       "      <td>Individual</td>\n",
       "      <td>F. Duncan M. Haldane</td>\n",
       "      <td>1951-09-14</td>\n",
       "      <td>United Kingdom</td>\n",
       "      <td>London</td>\n",
       "      <td>Male</td>\n",
       "      <td>NaN</td>\n",
       "      <td>65.0</td>\n",
       "    </tr>\n",
       "    <tr>\n",
       "      <th>968</th>\n",
       "      <td>2016</td>\n",
       "      <td>Physics</td>\n",
       "      <td>The Nobel Prize in Physics 2016</td>\n",
       "      <td>\"for theoretical discoveries of topological ph...</td>\n",
       "      <td>Individual</td>\n",
       "      <td>J. Michael Kosterlitz</td>\n",
       "      <td>1943-06-22</td>\n",
       "      <td>United Kingdom</td>\n",
       "      <td>Aberdeen</td>\n",
       "      <td>Male</td>\n",
       "      <td>NaN</td>\n",
       "      <td>73.0</td>\n",
       "    </tr>\n",
       "  </tbody>\n",
       "</table>\n",
       "<p>969 rows × 12 columns</p>\n",
       "</div>"
      ],
      "text/plain": [
       "     Year    Category                                           Prize  \\\n",
       "0    1901   Chemistry               The Nobel Prize in Chemistry 1901   \n",
       "1    1901  Literature              The Nobel Prize in Literature 1901   \n",
       "2    1901    Medicine  The Nobel Prize in Physiology or Medicine 1901   \n",
       "3    1901       Peace                      The Nobel Peace Prize 1901   \n",
       "4    1901       Peace                      The Nobel Peace Prize 1901   \n",
       "..    ...         ...                                             ...   \n",
       "964  2016    Medicine  The Nobel Prize in Physiology or Medicine 2016   \n",
       "965  2016       Peace                      The Nobel Peace Prize 2016   \n",
       "966  2016     Physics                 The Nobel Prize in Physics 2016   \n",
       "967  2016     Physics                 The Nobel Prize in Physics 2016   \n",
       "968  2016     Physics                 The Nobel Prize in Physics 2016   \n",
       "\n",
       "                                            Motivation Laureate Type  \\\n",
       "0    \"in recognition of the extraordinary services ...    Individual   \n",
       "1    \"in special recognition of his poetic composit...    Individual   \n",
       "2    \"for his work on serum therapy, especially its...    Individual   \n",
       "3                                                  NaN    Individual   \n",
       "4                                                  NaN    Individual   \n",
       "..                                                 ...           ...   \n",
       "964  \"for his discoveries of mechanisms for autophagy\"    Individual   \n",
       "965  \"for his resolute efforts to bring the country...    Individual   \n",
       "966  \"for theoretical discoveries of topological ph...    Individual   \n",
       "967  \"for theoretical discoveries of topological ph...    Individual   \n",
       "968  \"for theoretical discoveries of topological ph...    Individual   \n",
       "\n",
       "                        Full Name  Birth Date     Birth Country  \\\n",
       "0    Jacobus Henricus van 't Hoff  1852-08-30       Netherlands   \n",
       "1                 Sully Prudhomme  1839-03-16            France   \n",
       "2          Emil Adolf von Behring  1854-03-15  Prussia (Poland)   \n",
       "3               Jean Henry Dunant  1828-05-08       Switzerland   \n",
       "4                  Frédéric Passy  1822-05-20            France   \n",
       "..                            ...         ...               ...   \n",
       "964              Yoshinori Ohsumi  1945-02-09             Japan   \n",
       "965            Juan Manuel Santos  1951-08-10          Colombia   \n",
       "966             David J. Thouless  1934-09-21    United Kingdom   \n",
       "967          F. Duncan M. Haldane  1951-09-14    United Kingdom   \n",
       "968         J. Michael Kosterlitz  1943-06-22    United Kingdom   \n",
       "\n",
       "            Birth City   Sex  Death Date  Real Age  \n",
       "0            Rotterdam  Male  1911-03-01      49.0  \n",
       "1                Paris  Male  1907-09-07      62.0  \n",
       "2    Hansdorf (Lawice)  Male  1917-03-31      47.0  \n",
       "3               Geneva  Male  1910-10-30      73.0  \n",
       "4                Paris  Male  1912-06-12      79.0  \n",
       "..                 ...   ...         ...       ...  \n",
       "964            Fukuoka  Male         NaN      71.0  \n",
       "965             Bogotá  Male         NaN      65.0  \n",
       "966           Bearsden  Male         NaN      82.0  \n",
       "967             London  Male         NaN      65.0  \n",
       "968           Aberdeen  Male         NaN      73.0  \n",
       "\n",
       "[969 rows x 12 columns]"
      ]
     },
     "execution_count": 12,
     "metadata": {},
     "output_type": "execute_result"
    }
   ],
   "source": [
    "#e\n",
    "\n",
    "#drops age column\n",
    "new_nobel.drop(columns = \"Age\")"
   ]
  },
  {
   "cell_type": "code",
   "execution_count": 13,
   "metadata": {
    "scrolled": true
   },
   "outputs": [
    {
     "data": {
      "text/plain": [
       "count    940.000000\n",
       "mean      59.485106\n",
       "std       12.364399\n",
       "min       17.000000\n",
       "25%       50.000000\n",
       "50%       60.000000\n",
       "75%       69.000000\n",
       "max       90.000000\n",
       "Name: Real Age, dtype: float64"
      ]
     },
     "execution_count": 13,
     "metadata": {},
     "output_type": "execute_result"
    }
   ],
   "source": [
    "#f\n",
    "\n",
    "#average age is 59.485106\n",
    "new_nobel[\"Real Age\"].describe()"
   ]
  },
  {
   "cell_type": "markdown",
   "metadata": {},
   "source": [
    "# 4."
   ]
  },
  {
   "cell_type": "code",
   "execution_count": 14,
   "metadata": {},
   "outputs": [],
   "source": [
    "nba_series = pd.read_csv(\"nba.csv\", index_col = \"Name\", usecols = [\"Name\", \"Salary\"], squeeze = True)"
   ]
  },
  {
   "cell_type": "code",
   "execution_count": 15,
   "metadata": {},
   "outputs": [
    {
     "data": {
      "text/plain": [
       "nan"
      ]
     },
     "execution_count": 15,
     "metadata": {},
     "output_type": "execute_result"
    }
   ],
   "source": [
    "#a\n",
    "\n",
    "#salary reported for John Holland is NaN\n",
    "nba_series[\"John Holland\"]"
   ]
  },
  {
   "cell_type": "code",
   "execution_count": 16,
   "metadata": {},
   "outputs": [
    {
     "data": {
      "text/plain": [
       "True"
      ]
     },
     "execution_count": 16,
     "metadata": {},
     "output_type": "execute_result"
    }
   ],
   "source": [
    "#b\n",
    "\n",
    "#5000000.0 exists as a salary for any person \n",
    "5000000.0 in nba_series.values"
   ]
  },
  {
   "cell_type": "code",
   "execution_count": 17,
   "metadata": {},
   "outputs": [
    {
     "data": {
      "text/plain": [
       "Name\n",
       "Avery Bradley    Above Average\n",
       "Jae Crowder      Above Average\n",
       "John Holland     Below Average\n",
       "R.J. Hunter      Below Average\n",
       "Jonas Jerebko    Above Average\n",
       "                     ...      \n",
       "Shelvin Mack     Below Average\n",
       "Raul Neto        Below Average\n",
       "Tibor Pleiss     Below Average\n",
       "Jeff Withey      Below Average\n",
       "NaN              Below Average\n",
       "Name: Salary, Length: 458, dtype: object"
      ]
     },
     "execution_count": 17,
     "metadata": {},
     "output_type": "execute_result"
    }
   ],
   "source": [
    "#c\n",
    "\n",
    "#applies function to nba.series and displays results\n",
    "nba_series.apply(lambda x : \n",
    "                 \"No Salary Reported\" if x == np.nan else \n",
    "                 \"Average\" if x == nba_series.mean() else \n",
    "                 \"Above Average\" if x > nba_series.mean() else \n",
    "                 \"Below Average\")"
   ]
  }
 ],
 "metadata": {
  "kernelspec": {
   "display_name": "Python 3",
   "language": "python",
   "name": "python3"
  },
  "language_info": {
   "codemirror_mode": {
    "name": "ipython",
    "version": 3
   },
   "file_extension": ".py",
   "mimetype": "text/x-python",
   "name": "python",
   "nbconvert_exporter": "python",
   "pygments_lexer": "ipython3",
   "version": "3.8.3"
  }
 },
 "nbformat": 4,
 "nbformat_minor": 4
}
