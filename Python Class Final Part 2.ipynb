{
 "cells": [
  {
   "cell_type": "code",
   "execution_count": 1,
   "metadata": {},
   "outputs": [],
   "source": [
    "# import all necessary libraries\n",
    "import pandas as pd\n",
    "import seaborn as sns\n",
    "import numpy as np\n",
    "import matplotlib.pyplot as plt\n",
    "import statsmodels.api as sm\n",
    "from sklearn.model_selection import train_test_split\n",
    "from sklearn.neighbors import KNeighborsClassifier \n",
    "from sklearn.preprocessing import StandardScaler  \n",
    "from sklearn import metrics"
   ]
  },
  {
   "cell_type": "markdown",
   "metadata": {},
   "source": [
    "## Predict Market Value using Linear Regression"
   ]
  },
  {
   "cell_type": "code",
   "execution_count": 2,
   "metadata": {},
   "outputs": [],
   "source": [
    "# download GlenCove excel data\n",
    "df = pd.read_excel(\"GlenCove.xlsx\")"
   ]
  },
  {
   "cell_type": "code",
   "execution_count": 3,
   "metadata": {},
   "outputs": [
    {
     "data": {
      "text/html": [
       "<div>\n",
       "<style scoped>\n",
       "    .dataframe tbody tr th:only-of-type {\n",
       "        vertical-align: middle;\n",
       "    }\n",
       "\n",
       "    .dataframe tbody tr th {\n",
       "        vertical-align: top;\n",
       "    }\n",
       "\n",
       "    .dataframe thead th {\n",
       "        text-align: right;\n",
       "    }\n",
       "</style>\n",
       "<table border=\"1\" class=\"dataframe\">\n",
       "  <thead>\n",
       "    <tr style=\"text-align: right;\">\n",
       "      <th></th>\n",
       "      <th>Address</th>\n",
       "      <th>Fair Market Value($000)</th>\n",
       "      <th>Property Size (acres)</th>\n",
       "      <th>Age</th>\n",
       "      <th>House Size (square feet)</th>\n",
       "      <th>Rooms</th>\n",
       "      <th>Baths</th>\n",
       "      <th>Garage</th>\n",
       "    </tr>\n",
       "  </thead>\n",
       "  <tbody>\n",
       "    <tr>\n",
       "      <th>0</th>\n",
       "      <td>9 Sycamore Road</td>\n",
       "      <td>522.9</td>\n",
       "      <td>0.2297</td>\n",
       "      <td>56</td>\n",
       "      <td>2448</td>\n",
       "      <td>7</td>\n",
       "      <td>3.5</td>\n",
       "      <td>2</td>\n",
       "    </tr>\n",
       "    <tr>\n",
       "      <th>1</th>\n",
       "      <td>21 Jefferson St</td>\n",
       "      <td>425.0</td>\n",
       "      <td>0.2192</td>\n",
       "      <td>61</td>\n",
       "      <td>1942</td>\n",
       "      <td>7</td>\n",
       "      <td>2.5</td>\n",
       "      <td>1</td>\n",
       "    </tr>\n",
       "    <tr>\n",
       "      <th>2</th>\n",
       "      <td>38 Hitching Post Lane</td>\n",
       "      <td>539.2</td>\n",
       "      <td>0.1630</td>\n",
       "      <td>39</td>\n",
       "      <td>2073</td>\n",
       "      <td>5</td>\n",
       "      <td>3.0</td>\n",
       "      <td>2</td>\n",
       "    </tr>\n",
       "    <tr>\n",
       "      <th>3</th>\n",
       "      <td>4 Poppy Lane</td>\n",
       "      <td>628.2</td>\n",
       "      <td>0.4608</td>\n",
       "      <td>28</td>\n",
       "      <td>2707</td>\n",
       "      <td>8</td>\n",
       "      <td>2.5</td>\n",
       "      <td>1</td>\n",
       "    </tr>\n",
       "    <tr>\n",
       "      <th>4</th>\n",
       "      <td>5 Daniel Drive</td>\n",
       "      <td>490.4</td>\n",
       "      <td>0.2549</td>\n",
       "      <td>56</td>\n",
       "      <td>2042</td>\n",
       "      <td>7</td>\n",
       "      <td>1.5</td>\n",
       "      <td>1</td>\n",
       "    </tr>\n",
       "    <tr>\n",
       "      <th>5</th>\n",
       "      <td>15 Francis Terrace</td>\n",
       "      <td>487.7</td>\n",
       "      <td>0.2290</td>\n",
       "      <td>98</td>\n",
       "      <td>2089</td>\n",
       "      <td>7</td>\n",
       "      <td>2.0</td>\n",
       "      <td>0</td>\n",
       "    </tr>\n",
       "    <tr>\n",
       "      <th>6</th>\n",
       "      <td>23 Guilfoy Street</td>\n",
       "      <td>370.3</td>\n",
       "      <td>0.1808</td>\n",
       "      <td>58</td>\n",
       "      <td>1433</td>\n",
       "      <td>7</td>\n",
       "      <td>2.0</td>\n",
       "      <td>0</td>\n",
       "    </tr>\n",
       "    <tr>\n",
       "      <th>7</th>\n",
       "      <td>17 Carlyle Drive</td>\n",
       "      <td>777.9</td>\n",
       "      <td>0.5015</td>\n",
       "      <td>17</td>\n",
       "      <td>2991</td>\n",
       "      <td>9</td>\n",
       "      <td>2.5</td>\n",
       "      <td>1</td>\n",
       "    </tr>\n",
       "    <tr>\n",
       "      <th>8</th>\n",
       "      <td>8 Craft Avenue</td>\n",
       "      <td>347.1</td>\n",
       "      <td>0.2229</td>\n",
       "      <td>62</td>\n",
       "      <td>1008</td>\n",
       "      <td>5</td>\n",
       "      <td>1.0</td>\n",
       "      <td>0</td>\n",
       "    </tr>\n",
       "    <tr>\n",
       "      <th>9</th>\n",
       "      <td>22 Beechwood Ct.</td>\n",
       "      <td>756.8</td>\n",
       "      <td>0.1300</td>\n",
       "      <td>25</td>\n",
       "      <td>3202</td>\n",
       "      <td>8</td>\n",
       "      <td>2.5</td>\n",
       "      <td>2</td>\n",
       "    </tr>\n",
       "  </tbody>\n",
       "</table>\n",
       "</div>"
      ],
      "text/plain": [
       "                 Address  Fair Market Value($000)  Property Size (acres)  Age  \\\n",
       "0        9 Sycamore Road                    522.9                 0.2297   56   \n",
       "1        21 Jefferson St                    425.0                 0.2192   61   \n",
       "2  38 Hitching Post Lane                    539.2                 0.1630   39   \n",
       "3           4 Poppy Lane                    628.2                 0.4608   28   \n",
       "4         5 Daniel Drive                    490.4                 0.2549   56   \n",
       "5     15 Francis Terrace                    487.7                 0.2290   98   \n",
       "6      23 Guilfoy Street                    370.3                 0.1808   58   \n",
       "7       17 Carlyle Drive                    777.9                 0.5015   17   \n",
       "8         8 Craft Avenue                    347.1                 0.2229   62   \n",
       "9       22 Beechwood Ct.                    756.8                 0.1300   25   \n",
       "\n",
       "   House Size (square feet)  Rooms  Baths  Garage  \n",
       "0                      2448      7    3.5       2  \n",
       "1                      1942      7    2.5       1  \n",
       "2                      2073      5    3.0       2  \n",
       "3                      2707      8    2.5       1  \n",
       "4                      2042      7    1.5       1  \n",
       "5                      2089      7    2.0       0  \n",
       "6                      1433      7    2.0       0  \n",
       "7                      2991      9    2.5       1  \n",
       "8                      1008      5    1.0       0  \n",
       "9                      3202      8    2.5       2  "
      ]
     },
     "execution_count": 3,
     "metadata": {},
     "output_type": "execute_result"
    }
   ],
   "source": [
    "# display first ten rows of data\n",
    "df.head(n=10)"
   ]
  },
  {
   "cell_type": "code",
   "execution_count": 4,
   "metadata": {},
   "outputs": [],
   "source": [
    "# renames market value, property size, and house size columns\n",
    "df.columns = ['Address', 'market_value', 'property_size', 'Age', 'house_size', 'Rooms', 'Baths','Garage']"
   ]
  },
  {
   "cell_type": "code",
   "execution_count": 5,
   "metadata": {},
   "outputs": [],
   "source": [
    "# creates new dataframe without age column\n",
    "newdf = df.drop(columns = 'Age')\n",
    "\n",
    "# sets Garage to binary of 0 for no garage, and 1 for garage\n",
    "# Garage data contains only values 0, 1, and 2 - only need to replace 2 with 1\n",
    "newdf[\"Garage\"] = newdf.Garage.replace({2:1})"
   ]
  },
  {
   "cell_type": "code",
   "execution_count": 6,
   "metadata": {},
   "outputs": [
    {
     "name": "stdout",
     "output_type": "stream",
     "text": [
      "       market_value  property_size   house_size      Rooms      Baths  \\\n",
      "count     30.000000      30.000000    30.000000  30.000000  30.000000   \n",
      "mean     474.910000       0.275960  1978.833333   6.833333   2.000000   \n",
      "std      144.312669       0.236445   550.875234   1.487496   0.694808   \n",
      "min      310.200000       0.085200  1008.000000   5.000000   1.000000   \n",
      "25%      374.675000       0.152650  1622.250000   6.000000   1.625000   \n",
      "50%      431.200000       0.204050  1992.000000   7.000000   2.000000   \n",
      "75%      535.125000       0.270350  2205.500000   7.750000   2.500000   \n",
      "max      889.000000       1.310000  3202.000000  11.000000   3.500000   \n",
      "\n",
      "          Garage  \n",
      "count  30.000000  \n",
      "mean    0.566667  \n",
      "std     0.504007  \n",
      "min     0.000000  \n",
      "25%     0.000000  \n",
      "50%     1.000000  \n",
      "75%     1.000000  \n",
      "max     1.000000  \n"
     ]
    }
   ],
   "source": [
    "# print summary stats for remaining columns\n",
    "print(newdf.describe())"
   ]
  },
  {
   "cell_type": "code",
   "execution_count": 7,
   "metadata": {},
   "outputs": [
    {
     "name": "stdout",
     "output_type": "stream",
     "text": [
      "               property_size  house_size     Rooms     Baths\n",
      "property_size       1.000000    0.211664  0.052963  0.053408\n",
      "house_size          0.211664    1.000000  0.399573  0.521314\n",
      "Rooms               0.052963    0.399573  1.000000  0.133457\n",
      "Baths               0.053408    0.521314  0.133457  1.000000\n"
     ]
    }
   ],
   "source": [
    "# print correlation for prop size, house size, rooms and baths\n",
    "print(newdf[['property_size','house_size','Rooms','Baths']].corr())"
   ]
  },
  {
   "cell_type": "markdown",
   "metadata": {},
   "source": [
    "All of the correlations are positive in nature, with varying levels of correlation\n",
    "\n",
    "1. property_size and house_size = 0.211664\n",
    "2. property_size and Rooms = 0.052963\n",
    "3. property_size and Baths = 0.053408\n",
    "4. house_size and Rooms = 0.399573\n",
    "5. house_size and Baths = 0.521314\n",
    "6. Rooms and Baths = 0.133457"
   ]
  },
  {
   "cell_type": "code",
   "execution_count": 8,
   "metadata": {},
   "outputs": [
    {
     "name": "stdout",
     "output_type": "stream",
     "text": [
      "                            OLS Regression Results                            \n",
      "==============================================================================\n",
      "Dep. Variable:           market_value   R-squared:                       0.815\n",
      "Model:                            OLS   Adj. R-squared:                  0.776\n",
      "Method:                 Least Squares   F-statistic:                     21.09\n",
      "Date:                Sun, 11 Oct 2020   Prob (F-statistic):           4.52e-08\n",
      "Time:                        15:58:04   Log-Likelihood:                -165.94\n",
      "No. Observations:                  30   AIC:                             343.9\n",
      "Df Residuals:                      24   BIC:                             352.3\n",
      "Df Model:                           5                                         \n",
      "Covariance Type:            nonrobust                                         \n",
      "=================================================================================\n",
      "                    coef    std err          t      P>|t|      [0.025      0.975]\n",
      "---------------------------------------------------------------------------------\n",
      "Intercept        78.0523     67.779      1.152      0.261     -61.837     217.942\n",
      "property_size   359.3104     56.919      6.313      0.000     241.836     476.785\n",
      "house_size        0.1025      0.033      3.117      0.005       0.035       0.170\n",
      "Rooms             0.7385      9.667      0.076      0.940     -19.214      20.691\n",
      "Baths            36.8445     21.904      1.682      0.106      -8.363      82.052\n",
      "Garage           28.3802     31.716      0.895      0.380     -37.078      93.839\n",
      "==============================================================================\n",
      "Omnibus:                        4.370   Durbin-Watson:                   1.619\n",
      "Prob(Omnibus):                  0.112   Jarque-Bera (JB):                2.767\n",
      "Skew:                           0.569   Prob(JB):                        0.251\n",
      "Kurtosis:                       3.958   Cond. No.                     1.15e+04\n",
      "==============================================================================\n",
      "\n",
      "Warnings:\n",
      "[1] Standard Errors assume that the covariance matrix of the errors is correctly specified.\n",
      "[2] The condition number is large, 1.15e+04. This might indicate that there are\n",
      "strong multicollinearity or other numerical problems.\n"
     ]
    }
   ],
   "source": [
    "# create linear regression, then create and print summary\n",
    "results = sm.formula.ols('market_value ~ property_size + house_size + Rooms + Baths + Garage', newdf).fit()\n",
    "results_sum = results.summary()\n",
    "print(results_sum)"
   ]
  },
  {
   "cell_type": "code",
   "execution_count": 9,
   "metadata": {},
   "outputs": [
    {
     "name": "stdout",
     "output_type": "stream",
     "text": [
      "                      sum_sq    df          F    PR(>F)\n",
      "property_size  185956.980096   1.0  39.850226  0.000002\n",
      "house_size      45335.829171   1.0   9.715382  0.004693\n",
      "Rooms              27.229339   1.0   0.005835  0.939743\n",
      "Baths           13203.326340   1.0   2.829448  0.105518\n",
      "Garage           3736.437085   1.0   0.800711  0.379768\n",
      "Residual       111993.529961  24.0        NaN       NaN\n"
     ]
    }
   ],
   "source": [
    "# creates and prints anova table\n",
    "aov_table = sm.stats.anova_lm(results, typ = 2)\n",
    "print(aov_table)"
   ]
  },
  {
   "cell_type": "markdown",
   "metadata": {},
   "source": [
    "This model actually performs very well. The R-squared value is relatively high in the range at 0.815, and the probability is 4.52e-08. The probability alone is well below the 0.05 threshold to reject a null hypothesis. Most of the value in this model is coming from property_size and house_size, not much clarity would be lost if Rooms, Baths and Garage were excluded from the regression."
   ]
  },
  {
   "cell_type": "markdown",
   "metadata": {},
   "source": [
    "The regression equation would be:\n",
    "\n",
    "market_value = 78.0523 + 359.3104 * property_size + 0.1025 * house_size + 0.7385 * Rooms + 36.8445 * Baths + 28.3802 * Garage"
   ]
  },
  {
   "cell_type": "markdown",
   "metadata": {},
   "source": [
    "The fair market value ($000) of a house that is 2000 sqft, on 0.30 acres, with 6 rooms, 2 bathrooms, and has a garage would be 497.34562"
   ]
  },
  {
   "cell_type": "markdown",
   "metadata": {},
   "source": [
    "## Distribution of Values of NBA Franchises"
   ]
  },
  {
   "cell_type": "code",
   "execution_count": 10,
   "metadata": {},
   "outputs": [],
   "source": [
    "# read in dataset NBAValues\n",
    "df = pd.read_excel(\"NBAValues.xlsx\")"
   ]
  },
  {
   "cell_type": "code",
   "execution_count": 11,
   "metadata": {},
   "outputs": [
    {
     "data": {
      "text/html": [
       "<div>\n",
       "<style scoped>\n",
       "    .dataframe tbody tr th:only-of-type {\n",
       "        vertical-align: middle;\n",
       "    }\n",
       "\n",
       "    .dataframe tbody tr th {\n",
       "        vertical-align: top;\n",
       "    }\n",
       "\n",
       "    .dataframe thead th {\n",
       "        text-align: right;\n",
       "    }\n",
       "</style>\n",
       "<table border=\"1\" class=\"dataframe\">\n",
       "  <thead>\n",
       "    <tr style=\"text-align: right;\">\n",
       "      <th></th>\n",
       "      <th>Team Name</th>\n",
       "      <th>Team Code</th>\n",
       "      <th>Revenue ($mil)</th>\n",
       "      <th>Current Value ($mil)</th>\n",
       "    </tr>\n",
       "  </thead>\n",
       "  <tbody>\n",
       "    <tr>\n",
       "      <th>0</th>\n",
       "      <td>Atlanta Hawks</td>\n",
       "      <td>ATL</td>\n",
       "      <td>133</td>\n",
       "      <td>825</td>\n",
       "    </tr>\n",
       "    <tr>\n",
       "      <th>1</th>\n",
       "      <td>Boston Celtics</td>\n",
       "      <td>BOS</td>\n",
       "      <td>173</td>\n",
       "      <td>1700</td>\n",
       "    </tr>\n",
       "    <tr>\n",
       "      <th>2</th>\n",
       "      <td>Brooklyn Nets</td>\n",
       "      <td>BKN</td>\n",
       "      <td>212</td>\n",
       "      <td>1500</td>\n",
       "    </tr>\n",
       "    <tr>\n",
       "      <th>3</th>\n",
       "      <td>Charlotte Bobcats</td>\n",
       "      <td>CHA</td>\n",
       "      <td>130</td>\n",
       "      <td>725</td>\n",
       "    </tr>\n",
       "    <tr>\n",
       "      <th>4</th>\n",
       "      <td>Chicago Bulls</td>\n",
       "      <td>CHI</td>\n",
       "      <td>201</td>\n",
       "      <td>2000</td>\n",
       "    </tr>\n",
       "    <tr>\n",
       "      <th>5</th>\n",
       "      <td>Cleveland Cavaliers</td>\n",
       "      <td>CLE</td>\n",
       "      <td>149</td>\n",
       "      <td>915</td>\n",
       "    </tr>\n",
       "    <tr>\n",
       "      <th>6</th>\n",
       "      <td>Dallas Mavericks</td>\n",
       "      <td>DAL</td>\n",
       "      <td>168</td>\n",
       "      <td>1150</td>\n",
       "    </tr>\n",
       "    <tr>\n",
       "      <th>7</th>\n",
       "      <td>Denver Nuggets</td>\n",
       "      <td>DEN</td>\n",
       "      <td>136</td>\n",
       "      <td>855</td>\n",
       "    </tr>\n",
       "    <tr>\n",
       "      <th>8</th>\n",
       "      <td>Detroit Pistons</td>\n",
       "      <td>DET</td>\n",
       "      <td>144</td>\n",
       "      <td>810</td>\n",
       "    </tr>\n",
       "    <tr>\n",
       "      <th>9</th>\n",
       "      <td>Golden State Warriors</td>\n",
       "      <td>GSW</td>\n",
       "      <td>168</td>\n",
       "      <td>1300</td>\n",
       "    </tr>\n",
       "    <tr>\n",
       "      <th>10</th>\n",
       "      <td>Houston Rockets</td>\n",
       "      <td>HOU</td>\n",
       "      <td>175</td>\n",
       "      <td>1250</td>\n",
       "    </tr>\n",
       "    <tr>\n",
       "      <th>11</th>\n",
       "      <td>Indiana Pacers</td>\n",
       "      <td>IND</td>\n",
       "      <td>149</td>\n",
       "      <td>830</td>\n",
       "    </tr>\n",
       "    <tr>\n",
       "      <th>12</th>\n",
       "      <td>Los Angeles Clippers</td>\n",
       "      <td>LAC</td>\n",
       "      <td>146</td>\n",
       "      <td>1600</td>\n",
       "    </tr>\n",
       "    <tr>\n",
       "      <th>13</th>\n",
       "      <td>Los Angeles Lakers</td>\n",
       "      <td>LAL</td>\n",
       "      <td>293</td>\n",
       "      <td>2600</td>\n",
       "    </tr>\n",
       "    <tr>\n",
       "      <th>14</th>\n",
       "      <td>Memphis Grizzlies</td>\n",
       "      <td>MEM</td>\n",
       "      <td>135</td>\n",
       "      <td>750</td>\n",
       "    </tr>\n",
       "    <tr>\n",
       "      <th>15</th>\n",
       "      <td>Miami Heat</td>\n",
       "      <td>MIA</td>\n",
       "      <td>188</td>\n",
       "      <td>1175</td>\n",
       "    </tr>\n",
       "    <tr>\n",
       "      <th>16</th>\n",
       "      <td>Milwaukee Bucks</td>\n",
       "      <td>MIL</td>\n",
       "      <td>110</td>\n",
       "      <td>600</td>\n",
       "    </tr>\n",
       "    <tr>\n",
       "      <th>17</th>\n",
       "      <td>Minnesota Timberwolves</td>\n",
       "      <td>MIN</td>\n",
       "      <td>128</td>\n",
       "      <td>625</td>\n",
       "    </tr>\n",
       "    <tr>\n",
       "      <th>18</th>\n",
       "      <td>New Orleans Pelicans</td>\n",
       "      <td>NOH</td>\n",
       "      <td>131</td>\n",
       "      <td>650</td>\n",
       "    </tr>\n",
       "    <tr>\n",
       "      <th>19</th>\n",
       "      <td>New York Knicks</td>\n",
       "      <td>NYK</td>\n",
       "      <td>278</td>\n",
       "      <td>2500</td>\n",
       "    </tr>\n",
       "    <tr>\n",
       "      <th>20</th>\n",
       "      <td>Oklahoma City Thunder</td>\n",
       "      <td>OKC</td>\n",
       "      <td>152</td>\n",
       "      <td>930</td>\n",
       "    </tr>\n",
       "    <tr>\n",
       "      <th>21</th>\n",
       "      <td>Orlando Magic</td>\n",
       "      <td>ORL</td>\n",
       "      <td>143</td>\n",
       "      <td>875</td>\n",
       "    </tr>\n",
       "    <tr>\n",
       "      <th>22</th>\n",
       "      <td>Philadelphia 76ers</td>\n",
       "      <td>PHI</td>\n",
       "      <td>125</td>\n",
       "      <td>700</td>\n",
       "    </tr>\n",
       "    <tr>\n",
       "      <th>23</th>\n",
       "      <td>Phoenix Suns</td>\n",
       "      <td>PHX</td>\n",
       "      <td>145</td>\n",
       "      <td>910</td>\n",
       "    </tr>\n",
       "    <tr>\n",
       "      <th>24</th>\n",
       "      <td>Portland Trail Blazers</td>\n",
       "      <td>POR</td>\n",
       "      <td>153</td>\n",
       "      <td>940</td>\n",
       "    </tr>\n",
       "    <tr>\n",
       "      <th>25</th>\n",
       "      <td>Sacramento Kings</td>\n",
       "      <td>SAC</td>\n",
       "      <td>125</td>\n",
       "      <td>800</td>\n",
       "    </tr>\n",
       "    <tr>\n",
       "      <th>26</th>\n",
       "      <td>San Antonio Spurs</td>\n",
       "      <td>SAS</td>\n",
       "      <td>174</td>\n",
       "      <td>1000</td>\n",
       "    </tr>\n",
       "    <tr>\n",
       "      <th>27</th>\n",
       "      <td>Toronto Raptors</td>\n",
       "      <td>TOR</td>\n",
       "      <td>151</td>\n",
       "      <td>920</td>\n",
       "    </tr>\n",
       "    <tr>\n",
       "      <th>28</th>\n",
       "      <td>Utah Jazz</td>\n",
       "      <td>UTA</td>\n",
       "      <td>142</td>\n",
       "      <td>830</td>\n",
       "    </tr>\n",
       "    <tr>\n",
       "      <th>29</th>\n",
       "      <td>Washington Wizards</td>\n",
       "      <td>WAS</td>\n",
       "      <td>143</td>\n",
       "      <td>900</td>\n",
       "    </tr>\n",
       "  </tbody>\n",
       "</table>\n",
       "</div>"
      ],
      "text/plain": [
       "                 Team Name Team Code  Revenue ($mil)   Current Value ($mil) \n",
       "0            Atlanta Hawks       ATL              133                    825\n",
       "1           Boston Celtics       BOS              173                   1700\n",
       "2            Brooklyn Nets       BKN              212                   1500\n",
       "3        Charlotte Bobcats       CHA              130                    725\n",
       "4            Chicago Bulls       CHI              201                   2000\n",
       "5      Cleveland Cavaliers       CLE              149                    915\n",
       "6         Dallas Mavericks       DAL              168                   1150\n",
       "7           Denver Nuggets       DEN              136                    855\n",
       "8          Detroit Pistons       DET              144                    810\n",
       "9    Golden State Warriors       GSW              168                   1300\n",
       "10         Houston Rockets       HOU              175                   1250\n",
       "11          Indiana Pacers       IND              149                    830\n",
       "12    Los Angeles Clippers       LAC              146                   1600\n",
       "13      Los Angeles Lakers       LAL              293                   2600\n",
       "14       Memphis Grizzlies       MEM              135                    750\n",
       "15              Miami Heat       MIA              188                   1175\n",
       "16         Milwaukee Bucks       MIL              110                    600\n",
       "17  Minnesota Timberwolves       MIN              128                    625\n",
       "18    New Orleans Pelicans       NOH              131                    650\n",
       "19         New York Knicks       NYK              278                   2500\n",
       "20   Oklahoma City Thunder       OKC              152                    930\n",
       "21           Orlando Magic       ORL              143                    875\n",
       "22      Philadelphia 76ers       PHI              125                    700\n",
       "23            Phoenix Suns       PHX              145                    910\n",
       "24  Portland Trail Blazers       POR              153                    940\n",
       "25        Sacramento Kings       SAC              125                    800\n",
       "26       San Antonio Spurs       SAS              174                   1000\n",
       "27         Toronto Raptors       TOR              151                    920\n",
       "28               Utah Jazz       UTA              142                    830\n",
       "29      Washington Wizards       WAS              143                    900"
      ]
     },
     "execution_count": 11,
     "metadata": {},
     "output_type": "execute_result"
    }
   ],
   "source": [
    "# display data without print\n",
    "df"
   ]
  },
  {
   "cell_type": "code",
   "execution_count": 12,
   "metadata": {},
   "outputs": [],
   "source": [
    "# rename columns to friendlier format\n",
    "df.columns = ['team_name', 'team_code', 'revenue', 'current_value']"
   ]
  },
  {
   "cell_type": "code",
   "execution_count": 13,
   "metadata": {},
   "outputs": [
    {
     "data": {
      "text/plain": [
       "Text(0.5, 1.0, 'NBA Team Values')"
      ]
     },
     "execution_count": 13,
     "metadata": {},
     "output_type": "execute_result"
    },
    {
     "data": {
      "image/png": "[encoded data removed]",
      "text/plain": [
       "<Figure size 432x288 with 1 Axes>"
      ]
     },
     "metadata": {
      "needs_background": "light"
     },
     "output_type": "display_data"
    }
   ],
   "source": [
    "# histogram with 20 bins\n",
    "fig, ax = plt.subplots()\n",
    "plt.hist(df['current_value'], bins=20, color = \"g\")\n",
    "ax.set_xlabel('Current Value in millions', size = 10)\n",
    "ax.set_ylabel('Frequency', size = 10)\n",
    "plt.title('NBA Team Values', size = 16)"
   ]
  },
  {
   "cell_type": "code",
   "execution_count": 14,
   "metadata": {},
   "outputs": [
    {
     "data": {
      "text/plain": [
       "Text(0.5, 1.0, 'NBA Team Values')"
      ]
     },
     "execution_count": 14,
     "metadata": {},
     "output_type": "execute_result"
    },
    {
     "data": {
      "image/png": "[encoded data removed]",
      "text/plain": [
       "<Figure size 432x288 with 1 Axes>"
      ]
     },
     "metadata": {
      "needs_background": "light"
     },
     "output_type": "display_data"
    }
   ],
   "source": [
    "# histogram with 10 bins\n",
    "fig, ax = plt.subplots()\n",
    "plt.hist(df['current_value'], bins=10, color = \"b\")\n",
    "ax.set_xlabel('Current Value in millions', size = 10)\n",
    "ax.set_ylabel('Frequency', size = 10)\n",
    "plt.title('NBA Team Values', size = 16)"
   ]
  },
  {
   "cell_type": "code",
   "execution_count": 15,
   "metadata": {},
   "outputs": [
    {
     "data": {
      "text/plain": [
       "Text(0.5, 1.0, 'NBA Team Values')"
      ]
     },
     "execution_count": 15,
     "metadata": {},
     "output_type": "execute_result"
    },
    {
     "data": {
      "image/png": "[encoded data removed]",
      "text/plain": [
       "<Figure size 432x288 with 1 Axes>"
      ]
     },
     "metadata": {
      "needs_background": "light"
     },
     "output_type": "display_data"
    }
   ],
   "source": [
    "# histogram with 3 bins\n",
    "fig, ax = plt.subplots()\n",
    "plt.hist(df['current_value'], bins=3, color = \"r\")\n",
    "ax.set_xlabel('Current Value in millions', size = 10)\n",
    "ax.set_ylabel('Frequency', size = 10)\n",
    "plt.title('NBA Team Values', size = 16)"
   ]
  },
  {
   "cell_type": "markdown",
   "metadata": {},
   "source": [
    "For this dataset, it appears that around 10 bins is the right number. It provides enough clarity on where the team values fall without going too far into detail that the graph becomes confusing."
   ]
  },
  {
   "cell_type": "markdown",
   "metadata": {},
   "source": [
    "The data for NBA team current value is right-skewed."
   ]
  },
  {
   "cell_type": "markdown",
   "metadata": {},
   "source": [
    "## Distribution of Values of MLB teams\n"
   ]
  },
  {
   "cell_type": "code",
   "execution_count": 16,
   "metadata": {},
   "outputs": [],
   "source": [
    "df = pd.read_csv(\"baseball_values.csv\")"
   ]
  },
  {
   "cell_type": "code",
   "execution_count": 17,
   "metadata": {},
   "outputs": [
    {
     "data": {
      "image/png": "[encoded data removed]",
      "text/plain": [
       "<Figure size 432x288 with 1 Axes>"
      ]
     },
     "metadata": {
      "needs_background": "light"
     },
     "output_type": "display_data"
    }
   ],
   "source": [
    "ax = sns.boxplot(x=\"Value\",data = df, color = \"g\", width = .3, whis = 3)\n",
    "ax.set_xlabel('Team Value in millions', size = 10)\n",
    "ax.set_title('Baseball Team Value Boxplot', size = 16)\n",
    "ax.text(2950, -.05, \"New York\"+ \"\\n\" + \" Yankees\", color='red', fontsize=10)\n",
    "plt.show()"
   ]
  },
  {
   "cell_type": "code",
   "execution_count": 18,
   "metadata": {},
   "outputs": [
    {
     "data": {
      "image/png": "[encoded data removed]",
      "text/plain": [
       "<Figure size 432x288 with 1 Axes>"
      ]
     },
     "metadata": {
      "needs_background": "light"
     },
     "output_type": "display_data"
    }
   ],
   "source": [
    "ax = sns.violinplot(x=\"Value\",data = df, color = \"g\", width = .3, whis = 3)\n",
    "ax.set_xlabel('Team Value in millions', size = 10)\n",
    "ax.set_title('Baseball Team Value Violinplot', size = 16)\n",
    "plt.show()"
   ]
  },
  {
   "cell_type": "markdown",
   "metadata": {},
   "source": [
    "From the violin plot, the approximate mode appears to be 900."
   ]
  },
  {
   "cell_type": "markdown",
   "metadata": {},
   "source": [
    "## Use k-NN to classify the type of fruit"
   ]
  },
  {
   "cell_type": "code",
   "execution_count": 19,
   "metadata": {},
   "outputs": [],
   "source": [
    "# read in tsv data\n",
    "df = pd.read_table(\"fruit.tsv\")"
   ]
  },
  {
   "cell_type": "code",
   "execution_count": 20,
   "metadata": {},
   "outputs": [
    {
     "data": {
      "text/html": [
       "<div>\n",
       "<style scoped>\n",
       "    .dataframe tbody tr th:only-of-type {\n",
       "        vertical-align: middle;\n",
       "    }\n",
       "\n",
       "    .dataframe tbody tr th {\n",
       "        vertical-align: top;\n",
       "    }\n",
       "\n",
       "    .dataframe thead th {\n",
       "        text-align: right;\n",
       "    }\n",
       "</style>\n",
       "<table border=\"1\" class=\"dataframe\">\n",
       "  <thead>\n",
       "    <tr style=\"text-align: right;\">\n",
       "      <th></th>\n",
       "      <th>fruit_label</th>\n",
       "      <th>fruit_name</th>\n",
       "      <th>fruit_subtype</th>\n",
       "      <th>mass</th>\n",
       "      <th>width</th>\n",
       "      <th>height</th>\n",
       "      <th>color_score</th>\n",
       "    </tr>\n",
       "  </thead>\n",
       "  <tbody>\n",
       "    <tr>\n",
       "      <th>0</th>\n",
       "      <td>1</td>\n",
       "      <td>apple</td>\n",
       "      <td>granny_smith</td>\n",
       "      <td>192</td>\n",
       "      <td>8.4</td>\n",
       "      <td>7.3</td>\n",
       "      <td>0.55</td>\n",
       "    </tr>\n",
       "    <tr>\n",
       "      <th>1</th>\n",
       "      <td>1</td>\n",
       "      <td>apple</td>\n",
       "      <td>granny_smith</td>\n",
       "      <td>180</td>\n",
       "      <td>8.0</td>\n",
       "      <td>6.8</td>\n",
       "      <td>0.59</td>\n",
       "    </tr>\n",
       "    <tr>\n",
       "      <th>2</th>\n",
       "      <td>1</td>\n",
       "      <td>apple</td>\n",
       "      <td>granny_smith</td>\n",
       "      <td>176</td>\n",
       "      <td>7.4</td>\n",
       "      <td>7.2</td>\n",
       "      <td>0.60</td>\n",
       "    </tr>\n",
       "    <tr>\n",
       "      <th>3</th>\n",
       "      <td>2</td>\n",
       "      <td>mandarin</td>\n",
       "      <td>mandarin</td>\n",
       "      <td>86</td>\n",
       "      <td>6.2</td>\n",
       "      <td>4.7</td>\n",
       "      <td>0.80</td>\n",
       "    </tr>\n",
       "    <tr>\n",
       "      <th>4</th>\n",
       "      <td>2</td>\n",
       "      <td>mandarin</td>\n",
       "      <td>mandarin</td>\n",
       "      <td>84</td>\n",
       "      <td>6.0</td>\n",
       "      <td>4.6</td>\n",
       "      <td>0.79</td>\n",
       "    </tr>\n",
       "  </tbody>\n",
       "</table>\n",
       "</div>"
      ],
      "text/plain": [
       "   fruit_label fruit_name fruit_subtype  mass  width  height  color_score\n",
       "0            1      apple  granny_smith   192    8.4     7.3         0.55\n",
       "1            1      apple  granny_smith   180    8.0     6.8         0.59\n",
       "2            1      apple  granny_smith   176    7.4     7.2         0.60\n",
       "3            2   mandarin      mandarin    86    6.2     4.7         0.80\n",
       "4            2   mandarin      mandarin    84    6.0     4.6         0.79"
      ]
     },
     "execution_count": 20,
     "metadata": {},
     "output_type": "execute_result"
    }
   ],
   "source": [
    "#display first 5 rows\n",
    "df.head()"
   ]
  },
  {
   "cell_type": "code",
   "execution_count": 21,
   "metadata": {},
   "outputs": [
    {
     "data": {
      "text/plain": [
       "orange      19\n",
       "apple       19\n",
       "lemon       16\n",
       "mandarin     5\n",
       "Name: fruit_name, dtype: int64"
      ]
     },
     "execution_count": 21,
     "metadata": {},
     "output_type": "execute_result"
    }
   ],
   "source": [
    "# counts of each fruit name\n",
    "df['fruit_name'].value_counts()"
   ]
  },
  {
   "cell_type": "code",
   "execution_count": 22,
   "metadata": {},
   "outputs": [],
   "source": [
    "# new dataframe containing limited columns\n",
    "newdf = df[['fruit_name','mass','width','height','color_score']]"
   ]
  },
  {
   "cell_type": "code",
   "execution_count": 23,
   "metadata": {},
   "outputs": [
    {
     "data": {
      "text/plain": [
       "Text(0, 0.5, 'Height (CM)')"
      ]
     },
     "execution_count": 23,
     "metadata": {},
     "output_type": "execute_result"
    },
    {
     "data": {
      "image/png": "[encoded data removed]",
      "text/plain": [
       "<Figure size 432x288 with 1 Axes>"
      ]
     },
     "metadata": {
      "needs_background": "light"
     },
     "output_type": "display_data"
    }
   ],
   "source": [
    "# creates scatterplot for fruits\n",
    "ax = sns.scatterplot('mass','height','fruit_name', data = newdf)\n",
    "ax.set_title('Fruits by mass and height')\n",
    "ax.set_xlabel('Mass (Grams)')\n",
    "ax.set_ylabel('Height (CM)')\n"
   ]
  },
  {
   "cell_type": "markdown",
   "metadata": {},
   "source": [
    "Based on the scatterplot, I think that mass and height could be used as predictor variables. My only concern would be with oranges - I believe that they will be the contributor for almost all errors due to the wide range of mass."
   ]
  },
  {
   "cell_type": "code",
   "execution_count": 24,
   "metadata": {},
   "outputs": [],
   "source": [
    "# segments data for modeling\n",
    "x = newdf[['mass','width','height','color_score']]\n",
    "y = newdf[['fruit_name']]"
   ]
  },
  {
   "cell_type": "code",
   "execution_count": 25,
   "metadata": {},
   "outputs": [],
   "source": [
    "# splits data into testing and training set\n",
    "x_train, x_test, y_train, y_test = train_test_split(x, y, train_size = 0.70, test_size=0.30, random_state=0)"
   ]
  },
  {
   "cell_type": "code",
   "execution_count": 26,
   "metadata": {},
   "outputs": [
    {
     "name": "stdout",
     "output_type": "stream",
     "text": [
      "             mass      width     height  color_score\n",
      "count   59.000000  59.000000  59.000000    59.000000\n",
      "mean   163.118644   7.105085   7.693220     0.762881\n",
      "std     55.018832   0.816938   1.361017     0.076857\n",
      "min     76.000000   5.800000   4.000000     0.550000\n",
      "25%    140.000000   6.600000   7.200000     0.720000\n",
      "50%    158.000000   7.200000   7.600000     0.750000\n",
      "75%    177.000000   7.500000   8.200000     0.810000\n",
      "max    362.000000   9.600000  10.500000     0.930000\n"
     ]
    }
   ],
   "source": [
    "# prints summary of x variables\n",
    "print(x.describe())"
   ]
  },
  {
   "cell_type": "code",
   "execution_count": 27,
   "metadata": {},
   "outputs": [
    {
     "name": "stdout",
     "output_type": "stream",
     "text": [
      "       fruit_name\n",
      "count          59\n",
      "unique          4\n",
      "top        orange\n",
      "freq           19\n"
     ]
    }
   ],
   "source": [
    "# prints summary of y variables\n",
    "print(y.describe())"
   ]
  },
  {
   "cell_type": "code",
   "execution_count": 28,
   "metadata": {},
   "outputs": [],
   "source": [
    "# standardizes data\n",
    "scaler = StandardScaler()  \n",
    "scaler.fit(x_train)\n",
    "x_train = scaler.transform(x_train)  \n",
    "x_test = scaler.transform(x_test)  "
   ]
  },
  {
   "cell_type": "code",
   "execution_count": 29,
   "metadata": {},
   "outputs": [],
   "source": [
    "# initializes and runs the classifier\n",
    "classifier = KNeighborsClassifier(n_neighbors=5)  \n",
    "classifier.fit(x_train, np.ravel(y_train))\n",
    "y_pred = classifier.predict(x_test) \n"
   ]
  },
  {
   "cell_type": "code",
   "execution_count": 30,
   "metadata": {},
   "outputs": [
    {
     "name": "stdout",
     "output_type": "stream",
     "text": [
      "[[4 0 0 0]\n",
      " [0 3 0 0]\n",
      " [0 0 2 0]\n",
      " [1 1 0 7]]\n"
     ]
    }
   ],
   "source": [
    "# creates and prints confusion matrix\n",
    "conf = metrics.confusion_matrix(y_test, y_pred)\n",
    "print(conf)"
   ]
  },
  {
   "cell_type": "code",
   "execution_count": 31,
   "metadata": {},
   "outputs": [
    {
     "name": "stdout",
     "output_type": "stream",
     "text": [
      "Accuracy score for model is: 0.8888888888888888\n"
     ]
    }
   ],
   "source": [
    "# prints accuracy score\n",
    "print('Accuracy score for model is:', metrics.accuracy_score(y_test, y_pred))"
   ]
  }
 ],
 "metadata": {
  "kernelspec": {
   "display_name": "Python 3",
   "language": "python",
   "name": "python3"
  },
  "language_info": {
   "codemirror_mode": {
    "name": "ipython",
    "version": 3
   },
   "file_extension": ".py",
   "mimetype": "text/x-python",
   "name": "python",
   "nbconvert_exporter": "python",
   "pygments_lexer": "ipython3",
   "version": "3.8.3"
  }
 },
 "nbformat": 4,
 "nbformat_minor": 4
}
