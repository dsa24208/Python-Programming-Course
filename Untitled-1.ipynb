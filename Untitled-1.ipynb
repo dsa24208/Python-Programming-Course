{
 "cells": [
  {
   "cell_type": "code",
   "execution_count": 11,
   "metadata": {},
   "outputs": [],
   "source": [
    "import random"
   ]
  },
  {
   "cell_type": "code",
   "execution_count": 12,
   "metadata": {},
   "outputs": [
    {
     "name": "stdout",
     "output_type": "stream",
     "text": [
      "You were wrong. Doyle is going to die next!\n",
      "Done\n"
     ]
    }
   ],
   "source": [
    "listtodie = ['Dylan', 'Kyler', 'Grant', 'Doyle', 'Henry', 'Max']\n",
    "keep_playing = ''\n",
    "\n",
    "while keep_playing != 'No':\n",
    "    dead_man = input('Guess who will die next:')\n",
    "    val = random.randint(0,len(listtodie))\n",
    "\n",
    "    if dead_man == listtodie[val]:\n",
    "        print('You were right! {} is going to die next!'.format(listtodie[val]))\n",
    "        keep_playing = input('Do you want to keep playing? (Yes or No):')\n",
    "    \n",
    "    else:\n",
    "        print('You were wrong. {} is going to die next!'.format(listtodie[val]))\n",
    "        keep_playing = input('Do you want to keep playing? (Yes or No):')\n",
    "\n",
    "print(\"Done\")"
   ]
  },
  {
   "cell_type": "code",
   "execution_count": null,
   "metadata": {},
   "outputs": [],
   "source": []
  },
  {
   "cell_type": "code",
   "execution_count": null,
   "metadata": {},
   "outputs": [],
   "source": []
  }
 ],
 "metadata": {
  "interpreter": {
   "hash": "60b9cfde06e0ae9ac294bdf663a556f9fa3cb1a795dc241e86d3694924f191a5"
  },
  "kernelspec": {
   "display_name": "Python 3.8.3 64-bit ('base': conda)",
   "language": "python",
   "name": "python3"
  },
  "language_info": {
   "codemirror_mode": {
    "name": "ipython",
    "version": 3
   },
   "file_extension": ".py",
   "mimetype": "text/x-python",
   "name": "python",
   "nbconvert_exporter": "python",
   "pygments_lexer": "ipython3",
   "version": "3.9.9"
  }
 },
 "nbformat": 4,
 "nbformat_minor": 2
}
